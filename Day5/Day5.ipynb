{
 "cells": [
  {
   "cell_type": "markdown",
   "id": "defb3fd6",
   "metadata": {
    "slideshow": {
     "slide_type": "slide"
    },
    "tags": []
   },
   "source": [
    "# Indexing and Slicing"
   ]
  },
  {
   "cell_type": "markdown",
   "id": "87ca785b",
   "metadata": {
    "slideshow": {
     "slide_type": "subslide"
    }
   },
   "source": [
    "<img src = \"img/index_slice.png\" alt = \"Inded and Slices\" height = \"2000\" width = \"2140\" />"
   ]
  },
  {
   "cell_type": "code",
   "execution_count": 1,
   "id": "8f65d925",
   "metadata": {
    "ExecuteTime": {
     "end_time": "2021-08-24T07:12:14.805714Z",
     "start_time": "2021-08-24T07:12:14.775687Z"
    },
    "slideshow": {
     "slide_type": "subslide"
    }
   },
   "outputs": [],
   "source": [
    "# Code"
   ]
  },
  {
   "cell_type": "markdown",
   "id": "fa15e061",
   "metadata": {
    "slideshow": {
     "slide_type": "slide"
    }
   },
   "source": [
    "# Comprehensions"
   ]
  },
  {
   "cell_type": "code",
   "execution_count": 3,
   "id": "935c4041",
   "metadata": {
    "ExecuteTime": {
     "end_time": "2021-08-25T05:33:02.014707Z",
     "start_time": "2021-08-25T05:33:02.003185Z"
    },
    "scrolled": true,
    "slideshow": {
     "slide_type": "subslide"
    }
   },
   "outputs": [],
   "source": [
    "# List Comprehension"
   ]
  },
  {
   "cell_type": "code",
   "execution_count": 4,
   "id": "c2e7c516",
   "metadata": {
    "ExecuteTime": {
     "end_time": "2021-08-23T07:00:37.304614Z",
     "start_time": "2021-08-23T07:00:37.282505Z"
    },
    "slideshow": {
     "slide_type": "subslide"
    }
   },
   "outputs": [],
   "source": [
    "# Set Comprehension"
   ]
  },
  {
   "cell_type": "code",
   "execution_count": 6,
   "id": "701f153a",
   "metadata": {
    "ExecuteTime": {
     "end_time": "2021-08-25T05:35:59.004395Z",
     "start_time": "2021-08-25T05:35:58.987568Z"
    },
    "slideshow": {
     "slide_type": "subslide"
    }
   },
   "outputs": [],
   "source": [
    "# Dictionary Comprehension"
   ]
  },
  {
   "cell_type": "markdown",
   "id": "c7599894",
   "metadata": {
    "slideshow": {
     "slide_type": "slide"
    }
   },
   "source": [
    "\n",
    "# Methods"
   ]
  },
  {
   "cell_type": "markdown",
   "id": "6b52fcbb",
   "metadata": {
    "slideshow": {
     "slide_type": "subslide"
    }
   },
   "source": [
    "1. Method is called by its name, but it is associated to an object (dependent)<br><br>\n",
    "2. Method is implicitly passed the object on which it is invoked. <br><bR>\n",
    "3. It may or may not return any data.<br><br>\n",
    "4. Method can operate on the data (instance variables) that is contained by a class</font></h5>"
   ]
  },
  {
   "cell_type": "code",
   "execution_count": 7,
   "id": "949b0fd9",
   "metadata": {
    "ExecuteTime": {
     "end_time": "2021-08-24T05:13:46.778780Z",
     "start_time": "2021-08-24T05:13:46.710579Z"
    },
    "scrolled": true,
    "slideshow": {
     "slide_type": "subslide"
    }
   },
   "outputs": [],
   "source": [
    "# Code"
   ]
  },
  {
   "cell_type": "markdown",
   "id": "d7f229b9",
   "metadata": {
    "slideshow": {
     "slide_type": "slide"
    }
   },
   "source": [
    "# String Methods\n",
    "\n",
    "#### string - immutable or hashable data type"
   ]
  },
  {
   "cell_type": "code",
   "execution_count": 8,
   "id": "db236be9",
   "metadata": {
    "ExecuteTime": {
     "end_time": "2021-08-24T07:25:25.382837Z",
     "start_time": "2021-08-24T07:25:25.318085Z"
    },
    "slideshow": {
     "slide_type": "subslide"
    }
   },
   "outputs": [],
   "source": [
    "# Code"
   ]
  },
  {
   "cell_type": "markdown",
   "id": "b1f403a7",
   "metadata": {
    "slideshow": {
     "slide_type": "slide"
    }
   },
   "source": [
    "# List Methods\n",
    "\n",
    "#### list - mutable or unhashable data type"
   ]
  },
  {
   "cell_type": "code",
   "execution_count": 9,
   "id": "4786ef9e",
   "metadata": {
    "ExecuteTime": {
     "end_time": "2021-08-25T06:07:14.985384Z",
     "start_time": "2021-08-25T06:07:14.965926Z"
    },
    "slideshow": {
     "slide_type": "subslide"
    }
   },
   "outputs": [],
   "source": [
    "# Code"
   ]
  },
  {
   "cell_type": "markdown",
   "id": "c187e4b2",
   "metadata": {
    "slideshow": {
     "slide_type": "slide"
    }
   },
   "source": [
    "# Set Methods"
   ]
  },
  {
   "cell_type": "code",
   "execution_count": 10,
   "id": "419d7d69",
   "metadata": {
    "ExecuteTime": {
     "end_time": "2021-08-25T07:16:32.752270Z",
     "start_time": "2021-08-25T07:16:32.738815Z"
    },
    "slideshow": {
     "slide_type": "subslide"
    }
   },
   "outputs": [],
   "source": [
    "# Code"
   ]
  },
  {
   "cell_type": "markdown",
   "id": "57a209f7",
   "metadata": {
    "slideshow": {
     "slide_type": "slide"
    }
   },
   "source": [
    "# Dictionary Methods"
   ]
  },
  {
   "cell_type": "code",
   "execution_count": 11,
   "id": "af1a6e23",
   "metadata": {
    "ExecuteTime": {
     "end_time": "2021-08-25T07:41:24.331766Z",
     "start_time": "2021-08-25T07:41:24.316884Z"
    },
    "slideshow": {
     "slide_type": "subslide"
    }
   },
   "outputs": [],
   "source": [
    "# Code"
   ]
  },
  {
   "cell_type": "markdown",
   "id": "98836a53",
   "metadata": {
    "slideshow": {
     "slide_type": "slide"
    }
   },
   "source": [
    "# Tuple Methods"
   ]
  },
  {
   "cell_type": "code",
   "execution_count": 12,
   "id": "272f35d0",
   "metadata": {
    "ExecuteTime": {
     "end_time": "2021-08-25T07:43:56.109385Z",
     "start_time": "2021-08-25T07:43:56.101962Z"
    },
    "slideshow": {
     "slide_type": "subslide"
    }
   },
   "outputs": [],
   "source": [
    "# Code"
   ]
  }
 ],
 "metadata": {
  "celltoolbar": "Slideshow",
  "hide_input": false,
  "kernelspec": {
   "display_name": "Python 3 (ipykernel)",
   "language": "python",
   "name": "python3"
  },
  "language_info": {
   "codemirror_mode": {
    "name": "ipython",
    "version": 3
   },
   "file_extension": ".py",
   "mimetype": "text/x-python",
   "name": "python",
   "nbconvert_exporter": "python",
   "pygments_lexer": "ipython3",
   "version": "3.9.10"
  },
  "toc": {
   "base_numbering": 1,
   "nav_menu": {},
   "number_sections": true,
   "sideBar": true,
   "skip_h1_title": false,
   "title_cell": "Table of Contents",
   "title_sidebar": "Contents",
   "toc_cell": false,
   "toc_position": {
    "height": "calc(100% - 180px)",
    "left": "10px",
    "top": "150px",
    "width": "164.994px"
   },
   "toc_section_display": true,
   "toc_window_display": false
  },
  "varInspector": {
   "cols": {
    "lenName": 16,
    "lenType": 16,
    "lenVar": 40
   },
   "kernels_config": {
    "python": {
     "delete_cmd_postfix": "",
     "delete_cmd_prefix": "del ",
     "library": "var_list.py",
     "varRefreshCmd": "print(var_dic_list())"
    },
    "r": {
     "delete_cmd_postfix": ") ",
     "delete_cmd_prefix": "rm(",
     "library": "var_list.r",
     "varRefreshCmd": "cat(var_dic_list()) "
    }
   },
   "types_to_exclude": [
    "module",
    "function",
    "builtin_function_or_method",
    "instance",
    "_Feature"
   ],
   "window_display": false
  }
 },
 "nbformat": 4,
 "nbformat_minor": 5
}

{
 "cells": [
  {
   "cell_type": "markdown",
   "id": "bd763cc9-c798-49e4-9eaf-01837ab9c3b6",
   "metadata": {
    "slideshow": {
     "slide_type": "slide"
    }
   },
   "source": [
    "# Sets"
   ]
  },
  {
   "cell_type": "markdown",
   "id": "8180ccd3-5461-4956-ba1d-1f65fd43be45",
   "metadata": {
    "slideshow": {
     "slide_type": "subslide"
    }
   },
   "source": [
    "<img src = \"img/sets.png\" alt = \"Sets\" height = \"2000\" width = \"2140\" />"
   ]
  },
  {
   "cell_type": "code",
   "execution_count": 12,
   "id": "e4f8a395-59a1-4859-8edf-48afbdf54ffa",
   "metadata": {
    "ExecuteTime": {
     "end_time": "2021-08-26T12:50:18.203123Z",
     "start_time": "2021-08-26T12:50:18.115801Z"
    },
    "slideshow": {
     "slide_type": "subslide"
    },
    "tags": []
   },
   "outputs": [
    {
     "name": "stdout",
     "output_type": "stream",
     "text": [
      "{1, 2, 3, 4}\n",
      "{'G', 'apple', 1, 3, 4, 5, 67, 'GG', 89.55, -2}\n",
      "{'2'}\n"
     ]
    }
   ],
   "source": [
    "# Code\n",
    "set1 = set()\n",
    "set2 = set((1, 2, 3, 4))\n",
    "print(set2)\n",
    "set3 = {1, 3, 4, 3, 3, 5, \"apple\", 67, 89.55, -2, \"apple\", \"GG\", \"G\", \"G\"}\n",
    "print(set3)\n",
    "set1.add(\"2\")\n",
    "print(set1)\n",
    "# set1.add([89, 33]) # we cannot add a mutable data types in set\n",
    "# print(set1)\n",
    "# print(set3[2]) # We cannot access an element from set"
   ]
  },
  {
   "cell_type": "markdown",
   "id": "974ef880-079b-45c3-8f1a-fc86e984a925",
   "metadata": {
    "slideshow": {
     "slide_type": "slide"
    }
   },
   "source": [
    "# Dictionaries"
   ]
  },
  {
   "cell_type": "markdown",
   "id": "3895c2e5-e394-444d-a4eb-2c281529078a",
   "metadata": {
    "slideshow": {
     "slide_type": "subslide"
    }
   },
   "source": [
    "<img src = \"img/dictionaries.png\" alt = \"Dictionaries\" height = \"2000\" width = \"2140\" />"
   ]
  },
  {
   "cell_type": "code",
   "execution_count": 33,
   "id": "c47aabd7-5bb1-4234-8ffa-85f99728986b",
   "metadata": {
    "ExecuteTime": {
     "end_time": "2021-08-26T12:50:18.206955Z",
     "start_time": "2021-08-26T12:50:18.206926Z"
    },
    "slideshow": {
     "slide_type": "subslide"
    },
    "tags": []
   },
   "outputs": [
    {
     "name": "stdout",
     "output_type": "stream",
     "text": [
      "<class 'dict'>\n",
      "{'Key': 'Value'}\n",
      "{'event_1': 'value', 'name': 'python', 'age': 40}\n",
      "{189: 'value'}\n",
      "40\n",
      "{'event_1': 'value', 'name': 'python', 'age': 40, 'pincode': 600021}\n"
     ]
    }
   ],
   "source": [
    "# Code\n",
    "d1 = {}\n",
    "print(type(d1))\n",
    "d2 = {\"Key\": \"Value\"}\n",
    "print(d2)\n",
    "d3 = dict(event_1=\"value\", name=\"python\", age=40)\n",
    "print(d3)\n",
    "d4 = {189: \"value\"}\n",
    "print(d4)\n",
    "print(d3[\"age\"])\n",
    "d3[\"pincode\"] = 600021\n",
    "print(d3)"
   ]
  },
  {
   "cell_type": "markdown",
   "id": "8e0ed0da-5de6-44d7-af1d-74814d23c33c",
   "metadata": {
    "slideshow": {
     "slide_type": "slide"
    }
   },
   "source": [
    "# Condition Expressions"
   ]
  },
  {
   "cell_type": "markdown",
   "id": "17391291-a321-49a7-b2ee-3c395ca3792f",
   "metadata": {
    "slideshow": {
     "slide_type": "subslide"
    }
   },
   "source": [
    "<img src = \"img/conditions.png\" alt = \"Conditions\" height = \"2000\" width = \"2140\" />"
   ]
  },
  {
   "cell_type": "code",
   "execution_count": 54,
   "id": "812379c1-c0b6-4277-bba8-c9efb618da14",
   "metadata": {
    "ExecuteTime": {
     "end_time": "2021-08-26T12:50:18.209614Z",
     "start_time": "2021-08-26T12:50:18.209584Z"
    },
    "slideshow": {
     "slide_type": "subslide"
    },
    "tags": []
   },
   "outputs": [
    {
     "name": "stdout",
     "output_type": "stream",
     "text": [
      "True apple\n",
      "elif is executing: x is less than y\n"
     ]
    }
   ],
   "source": [
    "# Code 1\n",
    "\n",
    "x = \"apple\"\n",
    "if x == \"apple\":\n",
    "    print(True, \"apple\")\n",
    "x =  -32\n",
    "y = 20\n",
    "\n",
    "# checking objects similarity\n",
    "if x > y:\n",
    "    print(\"if is executing: x is greater than y\")\n",
    "    \n",
    "elif x < y:\n",
    "    print(\"elif is executing: x is less than y\")\n",
    "\n",
    "else:\n",
    "    print(\"Useless statement\")"
   ]
  },
  {
   "cell_type": "code",
   "execution_count": 46,
   "id": "17dd7323-1123-4ed0-8e98-2519715b5eba",
   "metadata": {
    "ExecuteTime": {
     "end_time": "2021-08-26T12:50:18.211437Z",
     "start_time": "2021-08-26T12:50:18.211400Z"
    },
    "slideshow": {
     "slide_type": "subslide"
    },
    "tags": []
   },
   "outputs": [
    {
     "name": "stdout",
     "output_type": "stream",
     "text": [
      "We can hear the sound of the gear\n",
      "Element 'bar' is present\n"
     ]
    }
   ],
   "source": [
    "# Code 2\n",
    "# Checking objects availablity in a container\n",
    "\n",
    "if \"ear\" in \"gear\":\n",
    "    print(\"We can hear the sound of the gear\")\n",
    "    \n",
    "if \"bar\" in [\"foo\", \"bar\", \"baz\", \"baaz\"]:\n",
    "    print(\"Element 'bar' is present\")"
   ]
  },
  {
   "cell_type": "code",
   "execution_count": 55,
   "id": "485986fe-16a6-4da3-a879-ca5ae9bb6c21",
   "metadata": {},
   "outputs": [
    {
     "name": "stdout",
     "output_type": "stream",
     "text": [
      "if Outer condition is:  True\n",
      "Post Conditional Execution\n"
     ]
    }
   ],
   "source": [
    "if \"foo\" in [\"foo\", \"bar\", \"baz\", \"baaz\"]:\n",
    "    print(\"if Outer condition is: \", True)\n",
    "\n",
    "elif \"bax\" not in [\"foo\", \"bar\", \"baz\", \"baaz\"]:\n",
    "    print(\"elif Outer Condition is: \", True)\n",
    "    \n",
    "    if 10 > 20:\n",
    "        print(\"Inner Condition 1\")\n",
    "        \n",
    "    print(\"Between the Inner Condition 1\")\n",
    "    \n",
    "    if 10 < 20:\n",
    "        print(\"Inner Condition 2\")\n",
    "        \n",
    "    print(\"Between the Inner Condition 1\")\n",
    "\n",
    "else:\n",
    "    print(\"if Outer Condition is: \", False)\n",
    "print(\"Post Conditional Execution\")"
   ]
  },
  {
   "cell_type": "markdown",
   "id": "8a59097f-34f3-43f1-958b-db25b96e00b6",
   "metadata": {
    "slideshow": {
     "slide_type": "slide"
    }
   },
   "source": [
    "# Comparison Operators"
   ]
  },
  {
   "cell_type": "markdown",
   "id": "7d8f21a1-a912-42d4-957e-1c04b8ad9777",
   "metadata": {
    "slideshow": {
     "slide_type": "subslide"
    }
   },
   "source": [
    "These Operators will allow us to compare variables and output a Boolean value (True or False)\n",
    "\n",
    "### Table of Comparison Operators\n",
    "<table class=\"table table-bordered\">\n",
    "<tr>\n",
    "<th style=\"width:10%\">Operator</th><th style=\"width:45%\">Description</th><th>Example</th>\n",
    "</tr>\n",
    "<tr>\n",
    "<td>==</td>\n",
    "<td>If the values of two operands are equal, then the condition becomes true.</td>\n",
    "<td> (a == b) is not true.</td>\n",
    "</tr>\n",
    "<tr>\n",
    "<td>!=</td>\n",
    "<td>If values of two operands are not equal, then condition becomes true.</td>\n",
    "<td>(a != b) is true</td>\n",
    "</tr>\n",
    "<tr>\n",
    "<td>&lt;&gt;</td>\n",
    "<td>If values of two operands are not equal, then condition becomes true.</td>\n",
    "<td> (a &lt;&gt; b) is true. This is similar to != operator.</td>\n",
    "</tr>\n",
    "<tr>\n",
    "<td>&gt;</td>\n",
    "<td>If the value of left operand is greater than the value of right operand, then condition becomes true.</td>\n",
    "<td> (a &gt; b) is not true.</td>\n",
    "</tr>\n",
    "<tr>\n",
    "<td>&lt;</td>\n",
    "<td>If the value of left operand is less than the value of right operand, then condition becomes true.</td>\n",
    "<td> (a &lt; b) is true.</td>\n",
    "</tr>\n",
    "<tr>\n",
    "<td>&gt;=</td>\n",
    "<td>If the value of left operand is greater than or equal to the value of right operand, then condition becomes true.</td>\n",
    "<td> (a &gt;= b) is not true. </td>\n",
    "</tr>\n",
    "<tr>\n",
    "<td>&lt;=</td>\n",
    "<td>If the value of left operand is less than or equal to the value of right operand, then condition becomes true.</td>\n",
    "<td> (a &lt;= b) is true. </td>\n",
    "</tr>\n",
    "</table>"
   ]
  },
  {
   "cell_type": "code",
   "execution_count": 60,
   "id": "d6ea359e-59cb-48ec-ab6e-b37eb92623f4",
   "metadata": {
    "ExecuteTime": {
     "end_time": "2021-08-26T12:50:18.215172Z",
     "start_time": "2021-08-26T12:50:18.215141Z"
    },
    "slideshow": {
     "slide_type": "subslide"
    },
    "tags": []
   },
   "outputs": [
    {
     "name": "stdout",
     "output_type": "stream",
     "text": [
      "True\n",
      "True\n",
      "True\n",
      "True\n",
      "False\n"
     ]
    }
   ],
   "source": [
    "# Code\n",
    "\n",
    "print(10 == 10.0)\n",
    "print([1, 2, 3, 4] > [1, 2, 3])\n",
    "print(-67 < 72)\n",
    "print(0.72 >= 0)\n",
    "print(-6 <= -6.2)"
   ]
  },
  {
   "cell_type": "markdown",
   "id": "3a42024b-204d-413b-ad4c-00c538d1d7a9",
   "metadata": {
    "slideshow": {
     "slide_type": "slide"
    }
   },
   "source": [
    "# Loops"
   ]
  },
  {
   "cell_type": "markdown",
   "id": "56e5f307-2ae3-4c41-8b8e-9f2d4107d1d9",
   "metadata": {
    "slideshow": {
     "slide_type": "subslide"
    }
   },
   "source": [
    "<img src = \"img/loops.png\" alt = \"Loops\" height = \"2000\" width = \"2140\" />"
   ]
  },
  {
   "cell_type": "code",
   "execution_count": 107,
   "id": "6f31980b-f2da-4485-bc31-fec51b5f9931",
   "metadata": {
    "ExecuteTime": {
     "end_time": "2021-08-26T12:50:18.218274Z",
     "start_time": "2021-08-26T12:50:18.218245Z"
    },
    "slideshow": {
     "slide_type": "subslide"
    },
    "tags": []
   },
   "outputs": [
    {
     "name": "stdout",
     "output_type": "stream",
     "text": [
      "0\n",
      "1\n",
      "2\n",
      "Hello\n",
      "Hello\n",
      "Hello\n",
      "0\n",
      "2\n",
      "4\n",
      "6\n",
      "8\n",
      "-1\n",
      "-3\n",
      "-5\n",
      "-7\n",
      "-9\n",
      "100\n",
      "300\n",
      "500\n",
      "700\n",
      "900\n"
     ]
    }
   ],
   "source": [
    "# For Loop Code\n",
    "\n",
    "for value in range(3):\n",
    "    print(value)   \n",
    "    \n",
    "for value in range(3):\n",
    "    print(\"Hello\")   \n",
    "    \n",
    "for value in range(0, 10, 2):\n",
    "    print(value)\n",
    "\n",
    "for value in range(-1, -10, -2):\n",
    "    print(value)\n",
    "\n",
    "for value in range(100, 1000, 200):\n",
    "    print(value)"
   ]
  },
  {
   "cell_type": "code",
   "execution_count": 131,
   "id": "cb046813-21d0-4b8c-8154-12c03462592f",
   "metadata": {},
   "outputs": [
    {
     "name": "stdout",
     "output_type": "stream",
     "text": [
      "apple orange jackfruit grapes \n",
      "apple orange jackfruit \n",
      "hi hi there hello how aer you its been a long time we have met \n",
      "king diamond spade queen hearts \n",
      "Name XYZ\n",
      "VOTER_ID WQWWW12323\n",
      "PANCARD BBBBBBB\n",
      "its been a long time we have met"
     ]
    }
   ],
   "source": [
    "    \n",
    "fruits = \"apple orange jackfruit grapes\".split() # List\n",
    "for fruit in fruits:\n",
    "    print(fruit, end=\" \")\n",
    "\n",
    "print()\n",
    "for fruit in fruits:\n",
    "    if fruit == \"grapes\":\n",
    "        break\n",
    "    print(fruit, end=\" \")\n",
    "print()\n",
    "\n",
    "messages = \"hi\", \"hi there\", \"hello\", \"how aer you\", \"its been a long time we have met\" # tuple\n",
    "for message in messages:\n",
    "    print(message, end=\" \")\n",
    "    \n",
    "print()\n",
    "\n",
    "cards = {\"diamond\", \"spade\", \"hearts\", \"queen\", \"king\"} # Set\n",
    "for card in cards:\n",
    "    print(card, end=\" \")\n",
    "    \n",
    "print()\n",
    "\n",
    "forms = dict(Name=\"XYZ\", VOTER_ID=\"WQWWW12323\",PANCARD=\"BBBBBBB\") # dictionary\n",
    "for key,value in forms.items():\n",
    "    print(key, value)\n",
    "    \n",
    "\n",
    "chats = \"its been a long time we have met\"\n",
    "for chat in chats:\n",
    "    print(chat, end=\"\")"
   ]
  },
  {
   "cell_type": "code",
   "execution_count": 148,
   "id": "01389e90-5d56-453b-ba02-a8bd3ee21599",
   "metadata": {
    "ExecuteTime": {
     "end_time": "2021-08-26T12:50:18.230497Z",
     "start_time": "2021-08-26T12:50:18.230474Z"
    },
    "slideshow": {
     "slide_type": "subslide"
    },
    "tags": []
   },
   "outputs": [
    {
     "name": "stdout",
     "output_type": "stream",
     "text": [
      "Hello World\n",
      "Hello World\n",
      "Hello World\n",
      "Hello World\n",
      "Hello World\n",
      "5\n",
      "4\n",
      "3\n",
      "\n",
      "9\n",
      "8\n",
      "7\n",
      "6\n",
      "4\n",
      "3\n"
     ]
    }
   ],
   "source": [
    "# Definite While Loop Code\n",
    "n = 0\n",
    "while n < 5:\n",
    "    print(\"Hello World\")\n",
    "    n = n + 1    \n",
    "\n",
    "# In-Definite While Loop Code\n",
    "n = 5\n",
    "# while n > 0: # since any number is greater than zero it becomes infinite loop\n",
    "#     print(n)\n",
    "#     n = n + 1 # This will become infinite loop\n",
    "\n",
    "# while loop with break statement\n",
    "n = 5\n",
    "while n > 0:\n",
    "    if n == 2:\n",
    "        break\n",
    "    print(n)\n",
    "    n = n - 1\n",
    "\n",
    "print()\n",
    "# while loop with continue and break statement\n",
    "n = 10\n",
    "while n > 0:\n",
    "    n = n - 1\n",
    "    if n == 5:\n",
    "        continue\n",
    "    if n == 2:\n",
    "        break\n",
    "    print(n)"
   ]
  },
  {
   "cell_type": "code",
   "execution_count": 156,
   "id": "37128a13-c455-454f-bfd5-56ad135093e2",
   "metadata": {},
   "outputs": [
    {
     "name": "stdout",
     "output_type": "stream",
     "text": [
      "True\n",
      "bliss\n",
      "baz\n",
      "bar\n",
      "foo\n",
      "[]\n",
      "False\n"
     ]
    }
   ],
   "source": [
    "# Container based while loop\n",
    "a = \"foo bar baz bliss\".split() # List\n",
    "print(bool(a))\n",
    "while a:\n",
    "    print(a.pop(-1))\n",
    "print(a)\n",
    "print(bool(a))"
   ]
  },
  {
   "cell_type": "code",
   "execution_count": 163,
   "id": "78fdc76d-edfa-4685-95f3-ae63f116044f",
   "metadata": {},
   "outputs": [
    {
     "name": "stdin",
     "output_type": "stream",
     "text": [
      "Enter the text message:  HI\n"
     ]
    },
    {
     "name": "stdout",
     "output_type": "stream",
     "text": [
      "Good Morning, How may I help you\n"
     ]
    },
    {
     "name": "stdin",
     "output_type": "stream",
     "text": [
      "Enter the text message:  hi\n"
     ]
    },
    {
     "name": "stdout",
     "output_type": "stream",
     "text": [
      "Good Morning, How may I help you\n"
     ]
    },
    {
     "name": "stdin",
     "output_type": "stream",
     "text": [
      "Enter the text message:  Hello\n"
     ]
    },
    {
     "name": "stdout",
     "output_type": "stream",
     "text": [
      "Good Morning, How may I help you\n"
     ]
    },
    {
     "name": "stdin",
     "output_type": "stream",
     "text": [
      "Enter the text message:  hello\n"
     ]
    },
    {
     "name": "stdout",
     "output_type": "stream",
     "text": [
      "Good Morning, How may I help you\n"
     ]
    },
    {
     "name": "stdin",
     "output_type": "stream",
     "text": [
      "Enter the text message:  HELLO\n"
     ]
    },
    {
     "name": "stdout",
     "output_type": "stream",
     "text": [
      "Good Morning, How may I help you\n"
     ]
    },
    {
     "name": "stdin",
     "output_type": "stream",
     "text": [
      "Enter the text message:  hELLO\n"
     ]
    },
    {
     "name": "stdout",
     "output_type": "stream",
     "text": [
      "Good Morning, How may I help you\n"
     ]
    },
    {
     "name": "stdin",
     "output_type": "stream",
     "text": [
      "Enter the text message:  logout\n"
     ]
    }
   ],
   "source": [
    "while True:\n",
    "    text = input(\"Enter the text message: \")\n",
    "    if text.lower() in [\"hi\", \"hello\"]:\n",
    "        print(\"Good Morning, How may I help you\")\n",
    "    else:\n",
    "        break    "
   ]
  },
  {
   "cell_type": "markdown",
   "id": "defb3fd6",
   "metadata": {
    "slideshow": {
     "slide_type": "slide"
    },
    "tags": []
   },
   "source": [
    "# Indexing and Slicing"
   ]
  },
  {
   "cell_type": "markdown",
   "id": "87ca785b",
   "metadata": {
    "slideshow": {
     "slide_type": "subslide"
    }
   },
   "source": [
    "<img src = \"img/index_slice.png\" alt = \"Inded and Slices\" height = \"2000\" width = \"2140\" />"
   ]
  },
  {
   "cell_type": "code",
   "execution_count": 1,
   "id": "8f65d925",
   "metadata": {
    "ExecuteTime": {
     "end_time": "2021-08-24T07:12:14.805714Z",
     "start_time": "2021-08-24T07:12:14.775687Z"
    },
    "slideshow": {
     "slide_type": "subslide"
    }
   },
   "outputs": [],
   "source": [
    "# Code"
   ]
  },
  {
   "cell_type": "markdown",
   "id": "fa15e061",
   "metadata": {
    "slideshow": {
     "slide_type": "slide"
    }
   },
   "source": [
    "# Comprehensions"
   ]
  },
  {
   "cell_type": "code",
   "execution_count": 3,
   "id": "935c4041",
   "metadata": {
    "ExecuteTime": {
     "end_time": "2021-08-25T05:33:02.014707Z",
     "start_time": "2021-08-25T05:33:02.003185Z"
    },
    "scrolled": true,
    "slideshow": {
     "slide_type": "subslide"
    }
   },
   "outputs": [],
   "source": [
    "# List Comprehension"
   ]
  },
  {
   "cell_type": "code",
   "execution_count": 4,
   "id": "c2e7c516",
   "metadata": {
    "ExecuteTime": {
     "end_time": "2021-08-23T07:00:37.304614Z",
     "start_time": "2021-08-23T07:00:37.282505Z"
    },
    "slideshow": {
     "slide_type": "subslide"
    }
   },
   "outputs": [],
   "source": [
    "# Set Comprehension"
   ]
  },
  {
   "cell_type": "code",
   "execution_count": 6,
   "id": "701f153a",
   "metadata": {
    "ExecuteTime": {
     "end_time": "2021-08-25T05:35:59.004395Z",
     "start_time": "2021-08-25T05:35:58.987568Z"
    },
    "slideshow": {
     "slide_type": "subslide"
    }
   },
   "outputs": [],
   "source": [
    "# Dictionary Comprehension"
   ]
  },
  {
   "cell_type": "markdown",
   "id": "c7599894",
   "metadata": {
    "slideshow": {
     "slide_type": "slide"
    }
   },
   "source": [
    "\n",
    "# Methods"
   ]
  },
  {
   "cell_type": "markdown",
   "id": "6b52fcbb",
   "metadata": {
    "slideshow": {
     "slide_type": "subslide"
    }
   },
   "source": [
    "1. Method is called by its name, but it is associated to an object (dependent)<br><br>\n",
    "2. Method is implicitly passed the object on which it is invoked. <br><bR>\n",
    "3. It may or may not return any data.<br><br>\n",
    "4. Method can operate on the data (instance variables) that is contained by a class</font></h5>"
   ]
  },
  {
   "cell_type": "code",
   "execution_count": 7,
   "id": "949b0fd9",
   "metadata": {
    "ExecuteTime": {
     "end_time": "2021-08-24T05:13:46.778780Z",
     "start_time": "2021-08-24T05:13:46.710579Z"
    },
    "scrolled": true,
    "slideshow": {
     "slide_type": "subslide"
    }
   },
   "outputs": [],
   "source": [
    "# Code"
   ]
  },
  {
   "cell_type": "markdown",
   "id": "d7f229b9",
   "metadata": {
    "slideshow": {
     "slide_type": "slide"
    }
   },
   "source": [
    "# String Methods\n",
    "\n",
    "#### string - immutable or hashable data type"
   ]
  },
  {
   "cell_type": "code",
   "execution_count": 8,
   "id": "db236be9",
   "metadata": {
    "ExecuteTime": {
     "end_time": "2021-08-24T07:25:25.382837Z",
     "start_time": "2021-08-24T07:25:25.318085Z"
    },
    "slideshow": {
     "slide_type": "subslide"
    }
   },
   "outputs": [],
   "source": [
    "# Code"
   ]
  },
  {
   "cell_type": "markdown",
   "id": "b1f403a7",
   "metadata": {
    "slideshow": {
     "slide_type": "slide"
    }
   },
   "source": [
    "# List Methods\n",
    "\n",
    "#### list - mutable or unhashable data type"
   ]
  },
  {
   "cell_type": "code",
   "execution_count": 9,
   "id": "4786ef9e",
   "metadata": {
    "ExecuteTime": {
     "end_time": "2021-08-25T06:07:14.985384Z",
     "start_time": "2021-08-25T06:07:14.965926Z"
    },
    "slideshow": {
     "slide_type": "subslide"
    }
   },
   "outputs": [],
   "source": [
    "# Code"
   ]
  },
  {
   "cell_type": "markdown",
   "id": "c187e4b2",
   "metadata": {
    "slideshow": {
     "slide_type": "slide"
    }
   },
   "source": [
    "# Set Methods"
   ]
  },
  {
   "cell_type": "code",
   "execution_count": 10,
   "id": "419d7d69",
   "metadata": {
    "ExecuteTime": {
     "end_time": "2021-08-25T07:16:32.752270Z",
     "start_time": "2021-08-25T07:16:32.738815Z"
    },
    "slideshow": {
     "slide_type": "subslide"
    }
   },
   "outputs": [],
   "source": [
    "# Code"
   ]
  },
  {
   "cell_type": "markdown",
   "id": "57a209f7",
   "metadata": {
    "slideshow": {
     "slide_type": "slide"
    }
   },
   "source": [
    "# Dictionary Methods"
   ]
  },
  {
   "cell_type": "code",
   "execution_count": 11,
   "id": "af1a6e23",
   "metadata": {
    "ExecuteTime": {
     "end_time": "2021-08-25T07:41:24.331766Z",
     "start_time": "2021-08-25T07:41:24.316884Z"
    },
    "slideshow": {
     "slide_type": "subslide"
    }
   },
   "outputs": [],
   "source": [
    "# Code"
   ]
  },
  {
   "cell_type": "markdown",
   "id": "98836a53",
   "metadata": {
    "slideshow": {
     "slide_type": "slide"
    }
   },
   "source": [
    "# Tuple Methods"
   ]
  },
  {
   "cell_type": "code",
   "execution_count": 12,
   "id": "272f35d0",
   "metadata": {
    "ExecuteTime": {
     "end_time": "2021-08-25T07:43:56.109385Z",
     "start_time": "2021-08-25T07:43:56.101962Z"
    },
    "slideshow": {
     "slide_type": "subslide"
    }
   },
   "outputs": [],
   "source": [
    "# Code"
   ]
  }
 ],
 "metadata": {
  "celltoolbar": "Slideshow",
  "hide_input": false,
  "kernelspec": {
   "display_name": "Python 3 (ipykernel)",
   "language": "python",
   "name": "python3"
  },
  "language_info": {
   "codemirror_mode": {
    "name": "ipython",
    "version": 3
   },
   "file_extension": ".py",
   "mimetype": "text/x-python",
   "name": "python",
   "nbconvert_exporter": "python",
   "pygments_lexer": "ipython3",
   "version": "3.9.10"
  },
  "toc": {
   "base_numbering": 1,
   "nav_menu": {},
   "number_sections": true,
   "sideBar": true,
   "skip_h1_title": false,
   "title_cell": "Table of Contents",
   "title_sidebar": "Contents",
   "toc_cell": false,
   "toc_position": {
    "height": "calc(100% - 180px)",
    "left": "10px",
    "top": "150px",
    "width": "164.994px"
   },
   "toc_section_display": true,
   "toc_window_display": false
  },
  "varInspector": {
   "cols": {
    "lenName": 16,
    "lenType": 16,
    "lenVar": 40
   },
   "kernels_config": {
    "python": {
     "delete_cmd_postfix": "",
     "delete_cmd_prefix": "del ",
     "library": "var_list.py",
     "varRefreshCmd": "print(var_dic_list())"
    },
    "r": {
     "delete_cmd_postfix": ") ",
     "delete_cmd_prefix": "rm(",
     "library": "var_list.r",
     "varRefreshCmd": "cat(var_dic_list()) "
    }
   },
   "types_to_exclude": [
    "module",
    "function",
    "builtin_function_or_method",
    "instance",
    "_Feature"
   ],
   "window_display": false
  }
 },
 "nbformat": 4,
 "nbformat_minor": 5
}

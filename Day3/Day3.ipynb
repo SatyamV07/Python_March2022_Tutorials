{
 "cells": [
  {
   "cell_type": "markdown",
   "id": "2acb1128-c31a-4bbf-b0a1-f703ba0d4c2b",
   "metadata": {
    "slideshow": {
     "slide_type": "slide"
    }
   },
   "source": [
    "# Data Types"
   ]
  },
  {
   "cell_type": "markdown",
   "id": "a73a4fe7-1e79-43a2-9125-4b4c464f96bb",
   "metadata": {
    "slideshow": {
     "slide_type": "subslide"
    }
   },
   "source": [
    "<img src = \"img/Datatypes.png\" alt = \"DataTypes\" height = \"2000\" width = \"2140\" />"
   ]
  },
  {
   "cell_type": "markdown",
   "id": "6391aff1-83f8-4017-852f-a463f4410e01",
   "metadata": {
    "slideshow": {
     "slide_type": "slide"
    }
   },
   "source": [
    "# Numbers"
   ]
  },
  {
   "cell_type": "markdown",
   "id": "f8a91249-de7f-43a9-a939-8c51671e2021",
   "metadata": {
    "slideshow": {
     "slide_type": "subslide"
    }
   },
   "source": [
    "<img src = \"img/numbers.png\" alt = \"Numbers\" height = \"2000\" width = \"2140\" />"
   ]
  },
  {
   "cell_type": "code",
   "execution_count": 1,
   "id": "0a8e8305-083a-472f-aa64-c3ff6ccc83d3",
   "metadata": {
    "ExecuteTime": {
     "end_time": "2021-08-26T12:50:17.959474Z",
     "start_time": "2021-08-26T12:50:17.938768Z"
    },
    "slideshow": {
     "slide_type": "subslide"
    }
   },
   "outputs": [],
   "source": [
    "# Code"
   ]
  },
  {
   "cell_type": "code",
   "execution_count": 2,
   "id": "346fb45f-a08f-4836-9f14-00b5513b68fd",
   "metadata": {
    "ExecuteTime": {
     "end_time": "2021-08-26T12:50:17.975641Z",
     "start_time": "2021-08-26T12:50:17.962609Z"
    },
    "scrolled": true,
    "slideshow": {
     "slide_type": "subslide"
    }
   },
   "outputs": [],
   "source": [
    "# Math function"
   ]
  },
  {
   "cell_type": "code",
   "execution_count": 3,
   "id": "b8d3605c-2c90-4e74-a42f-68584a494643",
   "metadata": {
    "ExecuteTime": {
     "end_time": "2021-08-26T12:50:17.994619Z",
     "start_time": "2021-08-26T12:50:17.977928Z"
    },
    "slideshow": {
     "slide_type": "subslide"
    }
   },
   "outputs": [],
   "source": [
    "# PARANETHESIS, EXPONENT, MULTIPLICATION, DIVISION, ADDITION, AND SUBTRACTION"
   ]
  },
  {
   "cell_type": "markdown",
   "id": "870275b0-9d9f-4a8a-863a-e9387d87f817",
   "metadata": {
    "slideshow": {
     "slide_type": "slide"
    }
   },
   "source": [
    "# Boolean"
   ]
  },
  {
   "cell_type": "markdown",
   "id": "ae9454aa-70d8-499f-9409-29d71f293265",
   "metadata": {
    "slideshow": {
     "slide_type": "subslide"
    }
   },
   "source": [
    "<img src = \"img/bool.png\" alt = \"Boolean\" height = \"2000\" width = \"2140\" />"
   ]
  },
  {
   "cell_type": "code",
   "execution_count": 4,
   "id": "c3b71091-92cc-4efe-9496-137f015baabf",
   "metadata": {
    "ExecuteTime": {
     "end_time": "2021-08-26T12:50:18.019387Z",
     "start_time": "2021-08-26T12:50:17.996889Z"
    },
    "scrolled": true,
    "slideshow": {
     "slide_type": "subslide"
    }
   },
   "outputs": [],
   "source": [
    "# Code"
   ]
  },
  {
   "cell_type": "markdown",
   "id": "d2e6f557-a56b-4054-9e1e-a3e0e60ee3e5",
   "metadata": {
    "slideshow": {
     "slide_type": "slide"
    }
   },
   "source": [
    "# Strings"
   ]
  },
  {
   "cell_type": "markdown",
   "id": "9cc1fcbb-7154-4a5d-a592-4916738956ef",
   "metadata": {
    "slideshow": {
     "slide_type": "subslide"
    }
   },
   "source": [
    "<img src = \"img/strings.png\" alt = \"Strings\" height = \"2000\" width = \"2140\" />"
   ]
  },
  {
   "cell_type": "code",
   "execution_count": null,
   "id": "4946941c-97c5-4124-9c5e-b67db566ff7a",
   "metadata": {
    "ExecuteTime": {
     "end_time": "2021-08-26T12:50:18.037274Z",
     "start_time": "2021-08-26T12:50:18.022914Z"
    },
    "slideshow": {
     "slide_type": "subslide"
    }
   },
   "outputs": [],
   "source": []
  },
  {
   "cell_type": "code",
   "execution_count": 5,
   "id": "c1e70a3f-8144-4188-a773-9d4da3bf8f09",
   "metadata": {
    "ExecuteTime": {
     "end_time": "2021-08-26T12:50:18.071697Z",
     "start_time": "2021-08-26T12:50:18.041838Z"
    },
    "slideshow": {
     "slide_type": "subslide"
    }
   },
   "outputs": [],
   "source": [
    "# string Module"
   ]
  },
  {
   "cell_type": "markdown",
   "id": "ff181e0e-ef8e-4b9c-b6ff-6fd02100cc90",
   "metadata": {
    "slideshow": {
     "slide_type": "slide"
    }
   },
   "source": [
    "# Lists"
   ]
  },
  {
   "cell_type": "markdown",
   "id": "42515154-4ccc-4dac-8fc1-a5b956fa0cd1",
   "metadata": {
    "slideshow": {
     "slide_type": "subslide"
    }
   },
   "source": [
    "<img src = \"img/lists.png\" alt = \"Lists\" height = \"2000\" width = \"2140\" />"
   ]
  },
  {
   "cell_type": "code",
   "execution_count": 6,
   "id": "0c88edd1-1dd4-4434-b974-5b292d44c884",
   "metadata": {
    "ExecuteTime": {
     "end_time": "2021-08-26T12:50:18.092706Z",
     "start_time": "2021-08-26T12:50:18.079230Z"
    },
    "slideshow": {
     "slide_type": "subslide"
    }
   },
   "outputs": [],
   "source": [
    "# Code"
   ]
  },
  {
   "cell_type": "markdown",
   "id": "dbfe14e5-0dea-4bf0-b63a-ded800ade396",
   "metadata": {
    "slideshow": {
     "slide_type": "slide"
    }
   },
   "source": [
    "# Tuples"
   ]
  },
  {
   "cell_type": "markdown",
   "id": "34167b50-73a3-4045-be64-a5dcf606b76f",
   "metadata": {
    "slideshow": {
     "slide_type": "subslide"
    }
   },
   "source": [
    "<img src = \"img/tuple.png\" alt = \"Tuples\" height = \"2000\" width = \"2140\" />"
   ]
  },
  {
   "cell_type": "code",
   "execution_count": 7,
   "id": "ae2087ce-8d57-4456-aaa6-dd682b414ecc",
   "metadata": {
    "ExecuteTime": {
     "end_time": "2021-08-26T12:50:18.110103Z",
     "start_time": "2021-08-26T12:50:18.096220Z"
    },
    "slideshow": {
     "slide_type": "subslide"
    }
   },
   "outputs": [],
   "source": [
    "# Code"
   ]
  },
  {
   "cell_type": "markdown",
   "id": "aede324f-498b-48c3-9657-4447bee9ebd2",
   "metadata": {
    "slideshow": {
     "slide_type": "slide"
    }
   },
   "source": [
    "# Sets"
   ]
  },
  {
   "cell_type": "markdown",
   "id": "0b069ab5-6beb-4f27-9679-bf521c8f5400",
   "metadata": {
    "slideshow": {
     "slide_type": "subslide"
    }
   },
   "source": [
    "<img src = \"img/sets.png\" alt = \"Sets\" height = \"2000\" width = \"2140\" />"
   ]
  },
  {
   "cell_type": "code",
   "execution_count": 8,
   "id": "8d66055e-3015-4b9e-95c5-32cd3969830d",
   "metadata": {
    "ExecuteTime": {
     "end_time": "2021-08-26T12:50:18.203123Z",
     "start_time": "2021-08-26T12:50:18.115801Z"
    },
    "slideshow": {
     "slide_type": "subslide"
    }
   },
   "outputs": [],
   "source": [
    "# Code\n"
   ]
  },
  {
   "cell_type": "markdown",
   "id": "e8b5523f-c444-420e-b457-8c0cdefda7f7",
   "metadata": {
    "slideshow": {
     "slide_type": "slide"
    }
   },
   "source": [
    "# Dictionaries"
   ]
  },
  {
   "cell_type": "markdown",
   "id": "a0f32a11-8103-4191-a6db-8c96dc1d5f55",
   "metadata": {
    "slideshow": {
     "slide_type": "subslide"
    }
   },
   "source": [
    "<img src = \"img/dictionaries.png\" alt = \"Dictionaries\" height = \"2000\" width = \"2140\" />"
   ]
  },
  {
   "cell_type": "code",
   "execution_count": 9,
   "id": "5ee9f243-8ce4-4d18-9fa9-c5be2519fde5",
   "metadata": {
    "ExecuteTime": {
     "end_time": "2021-08-26T12:50:18.206955Z",
     "start_time": "2021-08-26T12:50:18.206926Z"
    },
    "slideshow": {
     "slide_type": "subslide"
    }
   },
   "outputs": [],
   "source": [
    "# Code\n"
   ]
  },
  {
   "cell_type": "markdown",
   "id": "0bc944db-b35d-43a9-82ee-e94c56af537f",
   "metadata": {
    "slideshow": {
     "slide_type": "slide"
    }
   },
   "source": [
    "# Condition Expressions"
   ]
  },
  {
   "cell_type": "markdown",
   "id": "2b837a01-1e93-4b50-bda2-327b0f2aff90",
   "metadata": {
    "slideshow": {
     "slide_type": "subslide"
    }
   },
   "source": [
    "<img src = \"img/conditions.png\" alt = \"Conditions\" height = \"2000\" width = \"2140\" />"
   ]
  },
  {
   "cell_type": "code",
   "execution_count": 10,
   "id": "fd7f52eb-1070-4a0b-9e1d-0caa6cb18242",
   "metadata": {
    "ExecuteTime": {
     "end_time": "2021-08-26T12:50:18.209614Z",
     "start_time": "2021-08-26T12:50:18.209584Z"
    },
    "slideshow": {
     "slide_type": "subslide"
    }
   },
   "outputs": [],
   "source": [
    "# Code 1\n",
    "\n",
    "# checking objects similarity\n"
   ]
  },
  {
   "cell_type": "code",
   "execution_count": 11,
   "id": "5d8a615d-3940-4013-9081-f784eb83db92",
   "metadata": {
    "ExecuteTime": {
     "end_time": "2021-08-26T12:50:18.211437Z",
     "start_time": "2021-08-26T12:50:18.211400Z"
    },
    "slideshow": {
     "slide_type": "subslide"
    }
   },
   "outputs": [],
   "source": [
    "# Code 2\n",
    "# Checking objects availablity in a container"
   ]
  },
  {
   "cell_type": "markdown",
   "id": "c8b50c99-8fd7-4059-9623-7bcf4c35b9f7",
   "metadata": {
    "slideshow": {
     "slide_type": "slide"
    }
   },
   "source": [
    "# Comparison Operators"
   ]
  },
  {
   "cell_type": "markdown",
   "id": "a11acf70-da40-4301-9a5e-25ddf9d78fcc",
   "metadata": {
    "slideshow": {
     "slide_type": "subslide"
    }
   },
   "source": [
    "These Operators will allow us to compare variables and output a Boolean value (True or False)\n",
    "\n",
    "### Table of Comparison Operators\n",
    "<table class=\"table table-bordered\">\n",
    "<tr>\n",
    "<th style=\"width:10%\">Operator</th><th style=\"width:45%\">Description</th><th>Example</th>\n",
    "</tr>\n",
    "<tr>\n",
    "<td>==</td>\n",
    "<td>If the values of two operands are equal, then the condition becomes true.</td>\n",
    "<td> (a == b) is not true.</td>\n",
    "</tr>\n",
    "<tr>\n",
    "<td>!=</td>\n",
    "<td>If values of two operands are not equal, then condition becomes true.</td>\n",
    "<td>(a != b) is true</td>\n",
    "</tr>\n",
    "<tr>\n",
    "<td>&lt;&gt;</td>\n",
    "<td>If values of two operands are not equal, then condition becomes true.</td>\n",
    "<td> (a &lt;&gt; b) is true. This is similar to != operator.</td>\n",
    "</tr>\n",
    "<tr>\n",
    "<td>&gt;</td>\n",
    "<td>If the value of left operand is greater than the value of right operand, then condition becomes true.</td>\n",
    "<td> (a &gt; b) is not true.</td>\n",
    "</tr>\n",
    "<tr>\n",
    "<td>&lt;</td>\n",
    "<td>If the value of left operand is less than the value of right operand, then condition becomes true.</td>\n",
    "<td> (a &lt; b) is true.</td>\n",
    "</tr>\n",
    "<tr>\n",
    "<td>&gt;=</td>\n",
    "<td>If the value of left operand is greater than or equal to the value of right operand, then condition becomes true.</td>\n",
    "<td> (a &gt;= b) is not true. </td>\n",
    "</tr>\n",
    "<tr>\n",
    "<td>&lt;=</td>\n",
    "<td>If the value of left operand is less than or equal to the value of right operand, then condition becomes true.</td>\n",
    "<td> (a &lt;= b) is true. </td>\n",
    "</tr>\n",
    "</table>"
   ]
  },
  {
   "cell_type": "code",
   "execution_count": 12,
   "id": "6829ca1c-ddf6-4591-a5ae-f56496cf6133",
   "metadata": {
    "ExecuteTime": {
     "end_time": "2021-08-26T12:50:18.215172Z",
     "start_time": "2021-08-26T12:50:18.215141Z"
    },
    "slideshow": {
     "slide_type": "subslide"
    }
   },
   "outputs": [],
   "source": [
    "# Code"
   ]
  },
  {
   "cell_type": "markdown",
   "id": "3ddaee52-ad35-41b5-b248-657cd09d9aa2",
   "metadata": {
    "slideshow": {
     "slide_type": "slide"
    }
   },
   "source": [
    "# Loops"
   ]
  },
  {
   "cell_type": "markdown",
   "id": "f4ea5b52-ab41-4745-a55e-5663f3c83b96",
   "metadata": {
    "slideshow": {
     "slide_type": "subslide"
    }
   },
   "source": [
    "<img src = \"img/loops.png\" alt = \"Loops\" height = \"2000\" width = \"2140\" />"
   ]
  },
  {
   "cell_type": "code",
   "execution_count": null,
   "id": "46932771-c9fd-4069-86cb-034294cfe8b9",
   "metadata": {
    "ExecuteTime": {
     "end_time": "2021-08-26T12:50:18.218274Z",
     "start_time": "2021-08-26T12:50:18.218245Z"
    },
    "slideshow": {
     "slide_type": "subslide"
    }
   },
   "outputs": [],
   "source": [
    "# For Loop Code\n"
   ]
  },
  {
   "cell_type": "code",
   "execution_count": 14,
   "id": "5f1ffcc5-b60c-49cb-9dcc-1e985c1a6047",
   "metadata": {
    "ExecuteTime": {
     "end_time": "2021-08-26T12:50:18.230497Z",
     "start_time": "2021-08-26T12:50:18.230474Z"
    },
    "slideshow": {
     "slide_type": "subslide"
    }
   },
   "outputs": [],
   "source": [
    "# Definite While Loop Code\n",
    "\n",
    "\n",
    "# In-Definite While Loop Code\n",
    "\n",
    "\n",
    "# while loop with break statement\n",
    "\n",
    "\n",
    "# while loop with continue and break statement\n"
   ]
  }
 ],
 "metadata": {
  "kernelspec": {
   "display_name": "Python 3 (ipykernel)",
   "language": "python",
   "name": "python3"
  },
  "language_info": {
   "codemirror_mode": {
    "name": "ipython",
    "version": 3
   },
   "file_extension": ".py",
   "mimetype": "text/x-python",
   "name": "python",
   "nbconvert_exporter": "python",
   "pygments_lexer": "ipython3",
   "version": "3.9.10"
  }
 },
 "nbformat": 4,
 "nbformat_minor": 5
}

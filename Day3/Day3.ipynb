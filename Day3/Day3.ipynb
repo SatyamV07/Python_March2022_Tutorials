{
 "cells": [
  {
   "cell_type": "markdown",
   "id": "2acb1128-c31a-4bbf-b0a1-f703ba0d4c2b",
   "metadata": {
    "slideshow": {
     "slide_type": "slide"
    }
   },
   "source": [
    "# Data Types"
   ]
  },
  {
   "cell_type": "markdown",
   "id": "a73a4fe7-1e79-43a2-9125-4b4c464f96bb",
   "metadata": {
    "slideshow": {
     "slide_type": "subslide"
    }
   },
   "source": [
    "<img src = \"img/Datatypes.png\" alt = \"DataTypes\" height = \"2000\" width = \"2140\" />"
   ]
  },
  {
   "cell_type": "markdown",
   "id": "6391aff1-83f8-4017-852f-a463f4410e01",
   "metadata": {
    "slideshow": {
     "slide_type": "slide"
    }
   },
   "source": [
    "# Numbers"
   ]
  },
  {
   "cell_type": "markdown",
   "id": "f8a91249-de7f-43a9-a939-8c51671e2021",
   "metadata": {
    "slideshow": {
     "slide_type": "subslide"
    }
   },
   "source": [
    "<img src = \"img/numbers.png\" alt = \"Numbers\" height = \"2000\" width = \"2140\" />"
   ]
  },
  {
   "cell_type": "code",
   "execution_count": 10,
   "id": "0a8e8305-083a-472f-aa64-c3ff6ccc83d3",
   "metadata": {
    "ExecuteTime": {
     "end_time": "2021-08-26T12:50:17.959474Z",
     "start_time": "2021-08-26T12:50:17.938768Z"
    },
    "slideshow": {
     "slide_type": "subslide"
    },
    "tags": []
   },
   "outputs": [
    {
     "name": "stdout",
     "output_type": "stream",
     "text": [
      "2\n",
      "6.7\n",
      "-78.8\n",
      "-56\n",
      "(67-200j)\n",
      "0b1001110\n",
      "0x4e\n",
      "0o116\n",
      "95 26 3.5 12 7 200000\n"
     ]
    }
   ],
   "source": [
    "# Code\n",
    "\n",
    "print(2) # integer\n",
    "print(6.7) # float\n",
    "print(-78.8) # float\n",
    "print(-56) # integer\n",
    "print(67-0.2e3j) # complex\n",
    "print(bin(78)) # Binary\n",
    "print(hex(78)) # Hexadecimal\n",
    "print(oct(78)) # Octal decimal\n",
    "print(90 + 5, 82 - 56, 7 / 2, 88 // 7, 67 % 10, 1_00_000 * 2)"
   ]
  },
  {
   "cell_type": "code",
   "execution_count": 37,
   "id": "346fb45f-a08f-4836-9f14-00b5513b68fd",
   "metadata": {
    "ExecuteTime": {
     "end_time": "2021-08-26T12:50:17.975641Z",
     "start_time": "2021-08-26T12:50:17.962609Z"
    },
    "scrolled": true,
    "slideshow": {
     "slide_type": "subslide"
    },
    "tags": []
   },
   "outputs": [
    {
     "name": "stdout",
     "output_type": "stream",
     "text": [
      "['__doc__', '__loader__', '__name__', '__package__', '__spec__', 'acos', 'acosh', 'asin', 'asinh', 'atan', 'atan2', 'atanh', 'ceil', 'comb', 'copysign', 'cos', 'cosh', 'degrees', 'dist', 'e', 'erf', 'erfc', 'exp', 'expm1', 'fabs', 'factorial', 'floor', 'fmod', 'frexp', 'fsum', 'gamma', 'gcd', 'hypot', 'inf', 'isclose', 'isfinite', 'isinf', 'isnan', 'isqrt', 'lcm', 'ldexp', 'lgamma', 'log', 'log10', 'log1p', 'log2', 'modf', 'nan', 'nextafter', 'perm', 'pi', 'pow', 'prod', 'radians', 'remainder', 'sin', 'sinh', 'sqrt', 'tan', 'tanh', 'tau', 'trunc', 'ulp']\n",
      "-0.8578030932449878\n",
      "0.5139784559875352\n",
      "78\n",
      "132.39335330748293\n",
      "79\n",
      "12.0\n",
      "3.141592653589793\n",
      "6.283185307179586\n",
      "484.0\n",
      "104.67\n"
     ]
    }
   ],
   "source": [
    "# math function, other mathematics modules are cmath, scipy(install using pip)\n",
    "import math\n",
    "print(dir(math))\n",
    "print(math.cos(78))\n",
    "print(math.sin(78))\n",
    "print(math.floor(78.12))\n",
    "print(math.dist([1, 2, 3], [67, 78, 89]))\n",
    "print(math.ceil(78.02))\n",
    "print(math.sqrt(144))\n",
    "print(math.pi)\n",
    "print(math.tau)\n",
    "print(math.pow(22, 2))\n",
    "print(math.fsum([1, 2, 77.67, 22, 2]))"
   ]
  },
  {
   "cell_type": "code",
   "execution_count": 42,
   "id": "b8d3605c-2c90-4e74-a42f-68584a494643",
   "metadata": {
    "ExecuteTime": {
     "end_time": "2021-08-26T12:50:17.994619Z",
     "start_time": "2021-08-26T12:50:17.977928Z"
    },
    "slideshow": {
     "slide_type": "subslide"
    },
    "tags": []
   },
   "outputs": [
    {
     "name": "stdout",
     "output_type": "stream",
     "text": [
      "-200402\n"
     ]
    }
   ],
   "source": [
    "# PARANETHESIS, EXPONENT, MULTIPLICATION, DIVISION, ADDITION, AND SUBTRACTION\n",
    "\n",
    "print(90 + 5 % 82 - 56 * (7 ** 3 + 88 // 7) + 67 % 10 - 1_00_000 * 2)"
   ]
  },
  {
   "cell_type": "markdown",
   "id": "870275b0-9d9f-4a8a-863a-e9387d87f817",
   "metadata": {
    "slideshow": {
     "slide_type": "slide"
    }
   },
   "source": [
    "# Boolean"
   ]
  },
  {
   "cell_type": "markdown",
   "id": "ae9454aa-70d8-499f-9409-29d71f293265",
   "metadata": {
    "slideshow": {
     "slide_type": "subslide"
    }
   },
   "source": [
    "<img src = \"img/bool.png\" alt = \"Boolean\" height = \"2000\" width = \"2140\" />"
   ]
  },
  {
   "cell_type": "code",
   "execution_count": 60,
   "id": "c3b71091-92cc-4efe-9496-137f015baabf",
   "metadata": {
    "ExecuteTime": {
     "end_time": "2021-08-26T12:50:18.019387Z",
     "start_time": "2021-08-26T12:50:17.996889Z"
    },
    "scrolled": true,
    "slideshow": {
     "slide_type": "subslide"
    },
    "tags": []
   },
   "outputs": [
    {
     "name": "stdout",
     "output_type": "stream",
     "text": [
      "True\n",
      "False\n",
      "False\n",
      "True\n",
      "True\n",
      "False\n",
      "False\n",
      "False\n",
      "False\n",
      "True\n",
      "True\n",
      "True\n",
      "True\n",
      "True\n",
      "True\n",
      "True\n",
      "False\n",
      "False\n",
      "False\n",
      "False\n",
      "False\n",
      "False\n",
      "False\n"
     ]
    }
   ],
   "source": [
    "# Code\n",
    "x, y = 10, 22.7\n",
    "\n",
    "print(x < y)\n",
    "print(x > y)\n",
    "print(x == y)\n",
    "print(x != y)\n",
    "print(x <= y)\n",
    "print(x >= y)\n",
    "# or, and, not\n",
    "print(not x < y)\n",
    "print(not \"a\" in \"apple\")\n",
    "print(x < y and x == y)\n",
    "print(x < y or x == y or x != y)\n",
    "\n",
    "## Checking the truthiness\n",
    "print(bool(1))\n",
    "print(bool(\"0b11001000\"))\n",
    "print(bool([777, 22, 222]))\n",
    "print(bool((777, 22, 222)))\n",
    "print(bool({6, 7, 8, 9}))\n",
    "print(bool(dict(a=1)))\n",
    "print(bool(None))\n",
    "print(bool(\"\"))\n",
    "print(bool())\n",
    "print(bool([]))\n",
    "print(bool({}))\n",
    "print(bool(set()))\n",
    "print(bool(()))"
   ]
  },
  {
   "cell_type": "markdown",
   "id": "d2e6f557-a56b-4054-9e1e-a3e0e60ee3e5",
   "metadata": {
    "slideshow": {
     "slide_type": "slide"
    }
   },
   "source": [
    "# Strings"
   ]
  },
  {
   "cell_type": "markdown",
   "id": "9cc1fcbb-7154-4a5d-a592-4916738956ef",
   "metadata": {
    "slideshow": {
     "slide_type": "subslide"
    }
   },
   "source": [
    "<img src = \"img/strings.png\" alt = \"Strings\" height = \"2000\" width = \"2140\" />"
   ]
  },
  {
   "cell_type": "code",
   "execution_count": 103,
   "id": "4946941c-97c5-4124-9c5e-b67db566ff7a",
   "metadata": {
    "ExecuteTime": {
     "end_time": "2021-08-26T12:50:18.037274Z",
     "start_time": "2021-08-26T12:50:18.022914Z"
    },
    "slideshow": {
     "slide_type": "subslide"
    },
    "tags": []
   },
   "outputs": [
    {
     "name": "stdout",
     "output_type": "stream",
     "text": [
      "g\n",
      "Good string\n",
      "Welcome to Python Tutorials\n",
      "Great Exp on using Jupyter Notebooks, Is't not?\n",
      "Great Exp on using Jupyter Notebooks, Is't not?\n",
      "First Line\\nSecond Line\n",
      "First Line \u000b",
      " Second Line\n",
      "Name: Kumaran R\n",
      "Age:  XY\n",
      "ADDR: CHENNAI\n",
      "0123456789\n",
      "11\n"
     ]
    }
   ],
   "source": [
    "# Since strings are unchangeable - in other words strings are immutable\n",
    "str1 = 'g'\n",
    "str2 = 'Good string'\n",
    "str3 = 'Welcome to Python Tutorials'\n",
    "str4 = \"Great Exp on using Jupyter Notebooks, Is't not?\"\n",
    "str_4a = 'Great Exp on using Jupyter Notebooks, Is\\'t not?'\n",
    "str5 = r\"First Line\\nSecond Line\"\n",
    "str6 = \"First Line \\v Second Line\"\n",
    "str7 = \"\"\"Name: Kumaran R\n",
    "Age:  XY\n",
    "ADDR: CHENNAI\"\"\"\n",
    "str8 = \"0123456789\"\n",
    "\n",
    "print(str1)\n",
    "print(str2)\n",
    "print(str3)\n",
    "print(str4)\n",
    "print(str_4a)\n",
    "print(str5)\n",
    "print(str6)\n",
    "print(str7)\n",
    "print(str8)\n",
    "print(len(str2))\n",
    "# str2[0] = \"g\"\n",
    "# print(str2)"
   ]
  },
  {
   "cell_type": "code",
   "execution_count": 97,
   "id": "c1e70a3f-8144-4188-a773-9d4da3bf8f09",
   "metadata": {
    "ExecuteTime": {
     "end_time": "2021-08-26T12:50:18.071697Z",
     "start_time": "2021-08-26T12:50:18.041838Z"
    },
    "slideshow": {
     "slide_type": "subslide"
    },
    "tags": []
   },
   "outputs": [
    {
     "name": "stdout",
     "output_type": "stream",
     "text": [
      "abcdefghijklmnopqrstuvwxyzABCDEFGHIJKLMNOPQRSTUVWXYZ\n",
      "abcdefghijklmnopqrstuvwxyz\n",
      "ABCDEFGHIJKLMNOPQRSTUVWXYZ\n",
      "0123456789\n",
      "!\"#$%&'()*+,-./:;<=>?@[\\]^_`{|}~\n",
      " \t\n",
      "\u000b",
      "\f",
      "\n",
      "0123456789abcdefABCDEF\n",
      "01234567\n"
     ]
    }
   ],
   "source": [
    "# string Module\n",
    "import string\n",
    "print(string.ascii_letters)\n",
    "print(string.ascii_lowercase)\n",
    "print(string.ascii_uppercase)\n",
    "print(string.digits)\n",
    "print(string.punctuation)\n",
    "print(string.whitespace)\n",
    "print(string.hexdigits)\n",
    "print(string.octdigits)"
   ]
  },
  {
   "cell_type": "markdown",
   "id": "ff181e0e-ef8e-4b9c-b6ff-6fd02100cc90",
   "metadata": {
    "slideshow": {
     "slide_type": "slide"
    }
   },
   "source": [
    "# Lists"
   ]
  },
  {
   "cell_type": "markdown",
   "id": "42515154-4ccc-4dac-8fc1-a5b956fa0cd1",
   "metadata": {
    "slideshow": {
     "slide_type": "subslide"
    }
   },
   "source": [
    "<img src = \"img/lists.png\" alt = \"Lists\" height = \"2000\" width = \"2140\" />"
   ]
  },
  {
   "cell_type": "code",
   "execution_count": 111,
   "id": "0c88edd1-1dd4-4434-b974-5b292d44c884",
   "metadata": {
    "ExecuteTime": {
     "end_time": "2021-08-26T12:50:18.092706Z",
     "start_time": "2021-08-26T12:50:18.079230Z"
    },
    "slideshow": {
     "slide_type": "subslide"
    },
    "tags": []
   },
   "outputs": [
    {
     "name": "stdout",
     "output_type": "stream",
     "text": [
      "[]\n",
      "[1, 2, 3, 4, 5]\n",
      "[7, 56.56, -3e-06, (45-54j), 3.45e-05, [1, 2, 3, 4, 5], [], '0b11100', '0x43', {'brand': 'Lenovo', 'CPU': 10}, ('one', 'two', 'three'), {1, 2, 3, 4, 5, 6, 7, 8, 7000, 667, 5663}, 'My function', 'Timepass', 3.141592653589793, True, False, None]\n",
      "\n",
      "[7, 78.65, -3e-06, (45-54j), 3.45e-05, [1, 2, 3, 4, 5], [], '0b11100', '0x43', {'brand': 'Lenovo', 'CPU': 10}, ('one', 'two', 'three'), {1, 2, 3, 4, 5, 6, 7, 8, 7000, 667, 5663}, 'My function', 'Timepass', 3.141592653589793, True, False, None]\n",
      "18\n"
     ]
    }
   ],
   "source": [
    "# Code\n",
    "\n",
    "def f1():\n",
    "    return \"My function\"\n",
    "\n",
    "class Timepass:\n",
    "    pass\n",
    "\n",
    "L1 = []\n",
    "L2 = list((1, 2, 3, 4, 5))\n",
    "print(L1)\n",
    "print(L2)\n",
    "L3 = [7,\n",
    "     56.56,\n",
    "     -0.000003,\n",
    "     45-54j,\n",
    "     345e-7,\n",
    "     L2,\n",
    "     L1,\n",
    "     bin(28),\n",
    "     hex(67),\n",
    "     dict(brand=\"Lenovo\", CPU=10),\n",
    "     (\"one\", \"two\", \"three\"),\n",
    "     {1, 2, 3, 4, 5, 5, 5, 6, 6, 7, 8, 7000, 5663, 667},\n",
    "     f1(),\n",
    "     Timepass.__name__,\n",
    "     math.pi,\n",
    "     True,\n",
    "     False,\n",
    "     None]\n",
    "print(L3)\n",
    "L3[1] = 78.65\n",
    "print()\n",
    "print(L3)\n",
    "print(len(L3))"
   ]
  },
  {
   "cell_type": "markdown",
   "id": "dbfe14e5-0dea-4bf0-b63a-ded800ade396",
   "metadata": {
    "slideshow": {
     "slide_type": "slide"
    }
   },
   "source": [
    "# Tuples"
   ]
  },
  {
   "cell_type": "markdown",
   "id": "34167b50-73a3-4045-be64-a5dcf606b76f",
   "metadata": {
    "slideshow": {
     "slide_type": "subslide"
    }
   },
   "source": [
    "<img src = \"img/tuple.png\" alt = \"Tuples\" height = \"2000\" width = \"2140\" />"
   ]
  },
  {
   "cell_type": "code",
   "execution_count": 119,
   "id": "ae2087ce-8d57-4456-aaa6-dd682b414ecc",
   "metadata": {
    "ExecuteTime": {
     "end_time": "2021-08-26T12:50:18.110103Z",
     "start_time": "2021-08-26T12:50:18.096220Z"
    },
    "slideshow": {
     "slide_type": "subslide"
    },
    "tags": []
   },
   "outputs": [
    {
     "name": "stdout",
     "output_type": "stream",
     "text": [
      "(4, 5, 6)\n",
      "(1, 2, 3)\n",
      "(7, 78.65, -3e-06, (45-54j), 3.45e-05, [1, 2, 3, 4, 5], [], '0b11100', '0x43', {'brand': 'Lenovo', 'CPU': 10}, ('one', 'two', 'three'), {1, 2, 3, 4, 5, 6, 7, 8, 7000, 667, 5663}, 'My function', 'Timepass', 3.141592653589793, True, False, None)\n",
      "\n",
      "(7, 56.56, -3e-06, (45-54j), 3.45e-05, [1, 2, 3, 4, 5], [], '0b11100', '0x43', {'brand': 'Lenovo', 'CPU': 10}, ('one', 'two', 'three'), {1, 2, 3, 4, 5, 6, 7, 8, 7000, 667, 5663}, 'My function', 'Timepass', 3.141592653589793, True, False, None)\n"
     ]
    },
    {
     "ename": "TypeError",
     "evalue": "'tuple' object does not support item assignment",
     "output_type": "error",
     "traceback": [
      "\u001b[1;31m---------------------------------------------------------------------------\u001b[0m",
      "\u001b[1;31mTypeError\u001b[0m                                 Traceback (most recent call last)",
      "Input \u001b[1;32mIn [119]\u001b[0m, in \u001b[0;36m<module>\u001b[1;34m\u001b[0m\n\u001b[0;32m     28\u001b[0m \u001b[38;5;28mprint\u001b[39m()\n\u001b[0;32m     29\u001b[0m \u001b[38;5;28mprint\u001b[39m(t4)\n\u001b[1;32m---> 30\u001b[0m t4[\u001b[38;5;241m10\u001b[39m] \u001b[38;5;241m=\u001b[39m \u001b[38;5;241m0\u001b[39m\n\u001b[0;32m     31\u001b[0m \u001b[38;5;28mprint\u001b[39m(t4)\n",
      "\u001b[1;31mTypeError\u001b[0m: 'tuple' object does not support item assignment"
     ]
    }
   ],
   "source": [
    "# # Code\n",
    "\n",
    "t1 = (4, 5, 6)\n",
    "t2 = 1, 2, 3\n",
    "t3 = tuple(L3)\n",
    "t4 = (7,\n",
    "     56.56,\n",
    "     -0.000003,\n",
    "     45-54j,\n",
    "     345e-7,\n",
    "     L2,\n",
    "     L1,\n",
    "     bin(28),\n",
    "     hex(67),\n",
    "     dict(brand=\"Lenovo\", CPU=10),\n",
    "     (\"one\", \"two\", \"three\"),\n",
    "     {1, 2, 3, 4, 5, 5, 5, 6, 6, 7, 8, 7000, 5663, 667},\n",
    "     f1(),\n",
    "     Timepass.__name__,\n",
    "     math.pi,\n",
    "     True,\n",
    "     False,\n",
    "     None)\n",
    "\n",
    "print(t1)\n",
    "print(t2)\n",
    "print(t3)\n",
    "print()\n",
    "print(t4)\n",
    "t4[10] = 0\n",
    "print(t4)"
   ]
  }
 ],
 "metadata": {
  "kernelspec": {
   "display_name": "Python 3 (ipykernel)",
   "language": "python",
   "name": "python3"
  },
  "language_info": {
   "codemirror_mode": {
    "name": "ipython",
    "version": 3
   },
   "file_extension": ".py",
   "mimetype": "text/x-python",
   "name": "python",
   "nbconvert_exporter": "python",
   "pygments_lexer": "ipython3",
   "version": "3.9.10"
  }
 },
 "nbformat": 4,
 "nbformat_minor": 5
}

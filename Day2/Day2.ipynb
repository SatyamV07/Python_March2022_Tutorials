{
 "cells": [
  {
   "cell_type": "markdown",
   "id": "0d72c28f-d66e-42ce-a1d9-08136b6a21ce",
   "metadata": {
    "slideshow": {
     "slide_type": "slide"
    }
   },
   "source": [
    " \n",
    "# Variables"
   ]
  },
  {
   "cell_type": "markdown",
   "id": "60011294-a07b-4b21-af44-9acd378e0128",
   "metadata": {
    "slideshow": {
     "slide_type": "subslide"
    }
   },
   "source": [
    "**https://github.com/kumar1987an/We_Learn_Python/blob/master/Variable_Assigment.md**\n"
   ]
  },
  {
   "cell_type": "code",
   "execution_count": 7,
   "id": "184ae202-8980-45ee-a492-fd4f0ea9d991",
   "metadata": {
    "ExecuteTime": {
     "end_time": "2021-08-26T12:50:17.774271Z",
     "start_time": "2021-08-26T12:50:17.761178Z"
    },
    "scrolled": true,
    "slideshow": {
     "slide_type": "subslide"
    }
   },
   "outputs": [
    {
     "name": "stdout",
     "output_type": "stream",
     "text": [
      "Sam\n",
      "Jack\n",
      "Joshua\n"
     ]
    }
   ],
   "source": [
    "# should have upper and lowercase letter, the digits 0-9 and the underscore character.\n",
    "name_of_the_person = \"Sam\"\n",
    "Name_of_the_Person = \"Jack\"\n",
    "Emp_id_6388844 = \"Joshua\"\n",
    "\n",
    "print(name_of_the_person)\n",
    "print(Name_of_the_Person)\n",
    "print(Emp_id_6388844)"
   ]
  },
  {
   "cell_type": "code",
   "execution_count": 9,
   "id": "5761d1db-554a-452e-8bce-968dcf176301",
   "metadata": {
    "ExecuteTime": {
     "end_time": "2021-08-26T12:50:17.801780Z",
     "start_time": "2021-08-26T12:50:17.789675Z"
    },
    "slideshow": {
     "slide_type": "subslide"
    }
   },
   "outputs": [
    {
     "ename": "SyntaxError",
     "evalue": "invalid decimal literal (3506150596.py, line 2)",
     "output_type": "error",
     "traceback": [
      "\u001b[1;36m  Input \u001b[1;32mIn [9]\u001b[1;36m\u001b[0m\n\u001b[1;33m    6388844_Emp_id = \"Joshua\"\u001b[0m\n\u001b[1;37m           ^\u001b[0m\n\u001b[1;31mSyntaxError\u001b[0m\u001b[1;31m:\u001b[0m invalid decimal literal\n"
     ]
    }
   ],
   "source": [
    "# the first character of a variable cannot be a digit\n",
    "6388844_Emp_id = \"Joshua\""
   ]
  },
  {
   "cell_type": "code",
   "execution_count": 12,
   "id": "941a8b9b-396c-49bb-a957-9eb026e9b24b",
   "metadata": {
    "ExecuteTime": {
     "end_time": "2021-08-26T12:50:17.804159Z",
     "start_time": "2021-08-26T12:50:17.804137Z"
    },
    "slideshow": {
     "slide_type": "subslide"
    }
   },
   "outputs": [
    {
     "name": "stdout",
     "output_type": "stream",
     "text": [
      "False, None, True, __peg_parser__, and, as, assert, async, await, break, class, continue, def, del, elif, else, except, finally, for, from, global, if, import, in, is, lambda, nonlocal, not, or, pass, raise, return, try, while, with, yield, "
     ]
    }
   ],
   "source": [
    "# reserved keywords should not be used as variable names.\n",
    "from keyword import kwlist\n",
    "for word in kwlist:\n",
    "    print(word, end=\", \")"
   ]
  },
  {
   "cell_type": "code",
   "execution_count": 14,
   "id": "052d5f5c-e209-4c68-9066-9bd2230bef9b",
   "metadata": {
    "ExecuteTime": {
     "end_time": "2021-08-26T12:50:17.835780Z",
     "start_time": "2021-08-26T12:50:17.820484Z"
    },
    "slideshow": {
     "slide_type": "subslide"
    }
   },
   "outputs": [
    {
     "name": "stdout",
     "output_type": "stream",
     "text": [
      "67\n",
      "78\n"
     ]
    }
   ],
   "source": [
    "# are case-sensitive\n",
    "kmph = 67\n",
    "KMPH = 78\n",
    "print(kmph)\n",
    "print(KMPH)"
   ]
  },
  {
   "cell_type": "code",
   "execution_count": 19,
   "id": "ab212134-1d03-4575-b020-aef39d9ac706",
   "metadata": {
    "ExecuteTime": {
     "end_time": "2021-08-26T12:50:17.852159Z",
     "start_time": "2021-08-26T12:50:17.841196Z"
    },
    "slideshow": {
     "slide_type": "subslide"
    }
   },
   "outputs": [],
   "source": [
    "# Conventions as Defined in PEP8\n",
    "\n",
    "# snake_case for functions and variable name\n",
    "distance_travelled = 178\n",
    "\n",
    "# Capital letters also applicable wherever necessary\n",
    "EVENT = \"click\"\n",
    "TICKET_NO = 6623\n",
    "\n",
    "# dont used names looks like digits 1 and 0\n",
    "# lotnumber = 33\n",
    "# 1otnumber = 3\n",
    "# 0O\n",
    "\n",
    "# Pascal case for class name\n",
    "Distance_travelled = 100\n",
    "Distance_Travelled = 2\n",
    "\n",
    "# Camel Case - Not recommended but no harm in using it\n",
    "distance_Travelled = 1\n",
    "type_of_Fruits = 6\n",
    "nameOftHePerson = \"Camelcase\"\n",
    "\n",
    "# private variable\n",
    "_age = \"X\"\n",
    "\n",
    "# Double underscores\n",
    "__title = \"Miss\"\n",
    "__title__ = \"Miss\"\n",
    "title__ = \"Mister\"\n",
    "title__name__ = \"Mrs\"\n",
    "\n",
    "# single underscores\n",
    "_gender_ = \"Female\""
   ]
  },
  {
   "cell_type": "code",
   "execution_count": 55,
   "id": "35cf3398-563a-426f-95db-68c905f17c8d",
   "metadata": {
    "ExecuteTime": {
     "end_time": "2021-08-26T12:50:17.874019Z",
     "start_time": "2021-08-26T12:50:17.863144Z"
    },
    "slideshow": {
     "slide_type": "subslide"
    }
   },
   "outputs": [
    {
     "name": "stdout",
     "output_type": "stream",
     "text": [
      "apple\n",
      "orange\n",
      "grape\n"
     ]
    }
   ],
   "source": [
    "# Variable unpacking\n",
    "a = b = c = 10\n",
    "a, b, c = 1, 2, \"alpha\"\n",
    "a, b, c = range(100, 301, 100)\n",
    "a, b, c = (\"apple\", \"orange\", \"grape\")\n",
    "\n",
    "def f1():\n",
    "    return (\"apple\", \"orange\", \"grape\")\n",
    "\n",
    "a, b, c = f1()\n",
    "print(a)\n",
    "print(b)\n",
    "print(c)"
   ]
  },
  {
   "cell_type": "markdown",
   "id": "76c8f6ba-a127-4146-812b-15070afcfca6",
   "metadata": {
    "slideshow": {
     "slide_type": "slide"
    }
   },
   "source": [
    "# Objects in Python"
   ]
  },
  {
   "cell_type": "code",
   "execution_count": 63,
   "id": "8d81f04a-d463-4821-b14b-2d94ae28afda",
   "metadata": {
    "ExecuteTime": {
     "end_time": "2021-08-26T12:50:17.910672Z",
     "start_time": "2021-08-26T12:50:17.883950Z"
    },
    "scrolled": true,
    "slideshow": {
     "slide_type": "subslide"
    }
   },
   "outputs": [
    {
     "name": "stdout",
     "output_type": "stream",
     "text": [
      "[<class 'int'>, <class 'object'>]\n",
      "[<class 'float'>, <class 'object'>]\n",
      "[<class 'str'>, <class 'object'>]\n",
      "[<class 'complex'>, <class 'object'>]\n",
      "[<class 'list'>, <class 'object'>]\n",
      "[<class 'tuple'>, <class 'object'>]\n",
      "[<class 'set'>, <class 'object'>]\n",
      "[<class 'dict'>, <class 'object'>]\n",
      "[<class 'NoneType'>, <class 'object'>]\n",
      "[<class 'bool'>, <class 'int'>, <class 'object'>]\n",
      "[<class 'bytes'>, <class 'object'>]\n",
      "[<class 'tuple'>, <class 'object'>]\n",
      "APPLE\n",
      "<__main__.Arithmetic object at 0x00000163F3422640>\n",
      "740\n"
     ]
    }
   ],
   "source": [
    "# Code\n",
    "\n",
    "print(type(1).mro())\n",
    "print(type(20.45).mro())\n",
    "print(type(\"apple\").mro())\n",
    "print(type(67-77j).mro())\n",
    "print(type([2, 3, 4]).mro())\n",
    "print(type((2, 3, 4)).mro())\n",
    "print(type({7, 8, 9}).mro())\n",
    "print(type(dict(a=20)).mro())\n",
    "print(type(None).mro())\n",
    "print(type(True).mro())\n",
    "print(type(b'01000').mro())\n",
    "print(type(f1()).mro())\n",
    "print(\"apple\".upper())\n",
    "\n",
    "class Arithmetic:\n",
    "    def __init__(self, x, y):\n",
    "        self.x = x\n",
    "        self.y = y\n",
    "        \n",
    "    def add(self):\n",
    "        return self.x + self.y\n",
    "    \n",
    "math1 = Arithmetic(78, 662)\n",
    "print(math1)\n",
    "print(math1.add())"
   ]
  },
  {
   "cell_type": "markdown",
   "id": "db6a8463-58bd-4707-89d5-3a0c6fe86ac5",
   "metadata": {
    "slideshow": {
     "slide_type": "slide"
    }
   },
   "source": [
    "# Indentation"
   ]
  },
  {
   "cell_type": "code",
   "execution_count": 79,
   "id": "5dd34439-5708-4e3e-b85c-ad743360ae19",
   "metadata": {
    "ExecuteTime": {
     "end_time": "2021-08-26T12:50:17.934134Z",
     "start_time": "2021-08-26T12:50:17.916053Z"
    },
    "slideshow": {
     "slide_type": "subslide"
    }
   },
   "outputs": [
    {
     "name": "stdout",
     "output_type": "stream",
     "text": [
      "20 apples\n",
      "0\n",
      "1\n",
      "2\n",
      "0\n",
      "1\n",
      "2\n",
      "3\n",
      "4\n",
      "5\n"
     ]
    }
   ],
   "source": [
    "# Code\n",
    "x = 20\n",
    "y = \" apples\"\n",
    "print(str(x) + y)\n",
    "\n",
    "# Condition checks\n",
    "if x > 100:\n",
    "    print(x)\n",
    "    \n",
    "# Functions\n",
    "def f1():\n",
    "    if x > 100:\n",
    "        print(x)\n",
    "    return 7\n",
    "\n",
    "# For and While Loops\n",
    "for num in range(3):\n",
    "    print(num)\n",
    "    \n",
    "n = 0\n",
    "while n <= 5:\n",
    "    print(n)\n",
    "    n = n + 1\n",
    "    \n",
    "# Classes\n",
    "class Arithmetic:\n",
    "    def __init__(self, x, y):\n",
    "        self.x = x\n",
    "        self.y = y\n",
    "        \n",
    "    def add(self):\n",
    "        return self.x + self.y\n",
    "\n",
    "# Context Managers\n",
    "with open(\"test.txt\", \"w\") as text_file:\n",
    "    text_file.write(\"first line\")\n",
    "\n",
    "# try, except, else, finally block\n",
    "try:\n",
    "    pass\n",
    "except:\n",
    "    pass\n",
    "else:\n",
    "    pass\n",
    "finally:\n",
    "    pass"
   ]
  },
  {
   "cell_type": "markdown",
   "id": "164c0dae",
   "metadata": {
    "slideshow": {
     "slide_type": "slide"
    }
   },
   "source": [
    "# Inbuilt Functions"
   ]
  },
  {
   "cell_type": "code",
   "execution_count": 77,
   "id": "69023a52",
   "metadata": {
    "slideshow": {
     "slide_type": "subslide"
    }
   },
   "outputs": [
    {
     "name": "stdout",
     "output_type": "stream",
     "text": [
      "['ArithmeticError', 'AssertionError', 'AttributeError', 'BaseException', 'BlockingIOError', 'BrokenPipeError', 'BufferError', 'BytesWarning', 'ChildProcessError', 'ConnectionAbortedError', 'ConnectionError', 'ConnectionRefusedError', 'ConnectionResetError', 'DeprecationWarning', 'EOFError', 'Ellipsis', 'EnvironmentError', 'Exception', 'False', 'FileExistsError', 'FileNotFoundError', 'FloatingPointError', 'FutureWarning', 'GeneratorExit', 'IOError', 'ImportError', 'ImportWarning', 'IndentationError', 'IndexError', 'InterruptedError', 'IsADirectoryError', 'KeyError', 'KeyboardInterrupt', 'LookupError', 'MemoryError', 'ModuleNotFoundError', 'NameError', 'None', 'NotADirectoryError', 'NotImplemented', 'NotImplementedError', 'OSError', 'OverflowError', 'PendingDeprecationWarning', 'PermissionError', 'ProcessLookupError', 'RecursionError', 'ReferenceError', 'ResourceWarning', 'RuntimeError', 'RuntimeWarning', 'StopAsyncIteration', 'StopIteration', 'SyntaxError', 'SyntaxWarning', 'SystemError', 'SystemExit', 'TabError', 'TimeoutError', 'True', 'TypeError', 'UnboundLocalError', 'UnicodeDecodeError', 'UnicodeEncodeError', 'UnicodeError', 'UnicodeTranslateError', 'UnicodeWarning', 'UserWarning', 'ValueError', 'Warning', 'WindowsError', 'ZeroDivisionError', '__IPYTHON__', '__build_class__', '__debug__', '__doc__', '__import__', '__loader__', '__name__', '__package__', '__spec__', 'abs', 'all', 'any', 'ascii', 'bin', 'bool', 'breakpoint', 'bytearray', 'bytes', 'callable', 'chr', 'classmethod', 'compile', 'complex', 'copyright', 'credits', 'delattr', 'dict', 'dir', 'display', 'divmod', 'enumerate', 'eval', 'exec', 'execfile', 'filter', 'float', 'format', 'frozenset', 'get_ipython', 'getattr', 'globals', 'hasattr', 'hash', 'help', 'hex', 'id', 'input', 'int', 'isinstance', 'issubclass', 'iter', 'len', 'license', 'list', 'locals', 'map', 'max', 'memoryview', 'min', 'next', 'object', 'oct', 'open', 'ord', 'pow', 'print', 'property', 'range', 'repr', 'reversed', 'round', 'runfile', 'set', 'setattr', 'slice', 'sorted', 'staticmethod', 'str', 'sum', 'super', 'tuple', 'type', 'vars', 'zip']\n"
     ]
    }
   ],
   "source": [
    "print(dir(__builtins__))"
   ]
  },
  {
   "cell_type": "code",
   "execution_count": 84,
   "id": "edd60c65",
   "metadata": {},
   "outputs": [
    {
     "name": "stdout",
     "output_type": "stream",
     "text": [
      "0b11001000\n",
      "<class 'str'>\n"
     ]
    }
   ],
   "source": [
    "# binary conversion\n",
    "print(bin(200))\n",
    "print(type(bin(200)))"
   ]
  },
  {
   "cell_type": "code",
   "execution_count": 104,
   "id": "9f18600a",
   "metadata": {},
   "outputs": [
    {
     "name": "stdout",
     "output_type": "stream",
     "text": [
      "True\n",
      "True\n",
      "True\n",
      "True\n",
      "True\n",
      "True\n",
      "False\n",
      "False\n",
      "False\n",
      "False\n",
      "False\n",
      "False\n",
      "False\n"
     ]
    }
   ],
   "source": [
    "# boolean\n",
    "print(bool(1))\n",
    "print(bool(\"0b11001000\"))\n",
    "print(bool([777, 22, 222]))\n",
    "print(bool((777, 22, 222)))\n",
    "print(bool({6, 7, 8, 9}))\n",
    "print(bool(dict(a=1)))\n",
    "print(bool(None))\n",
    "print(bool(\"\"))\n",
    "print(bool())\n",
    "print(bool([]))\n",
    "print(bool({}))\n",
    "print(bool(set()))\n",
    "print(bool(()))"
   ]
  },
  {
   "cell_type": "code",
   "execution_count": 1,
   "id": "4533c563",
   "metadata": {},
   "outputs": [
    {
     "name": "stdout",
     "output_type": "stream",
     "text": [
      "False\n",
      "True\n"
     ]
    }
   ],
   "source": [
    "# all and any\n",
    "print(all((1, [], True, dict(fruit=\"apple\"))))\n",
    "print(all((1, [1], True, dict(fruit=\"apple\"))))\n",
    "# print(True or False)\n",
    "# print(True or True)\n",
    "# print(False or True)\n",
    "# print(False or False)\n",
    "# print(True and False)\n",
    "# print(True and True)\n",
    "# print(False and True)\n",
    "# print(False and False)"
   ]
  },
  {
   "cell_type": "code",
   "execution_count": 2,
   "id": "fdd4b59e-80f5-4e2e-aa7c-d62291963f17",
   "metadata": {},
   "outputs": [
    {
     "data": {
      "text/plain": [
       "'0x43'"
      ]
     },
     "execution_count": 2,
     "metadata": {},
     "output_type": "execute_result"
    }
   ],
   "source": [
    "hex(67)"
   ]
  },
  {
   "cell_type": "code",
   "execution_count": 3,
   "id": "080d61ad-0897-4e66-8571-c4d33bf4d840",
   "metadata": {},
   "outputs": [
    {
     "data": {
      "text/plain": [
       "str"
      ]
     },
     "execution_count": 3,
     "metadata": {},
     "output_type": "execute_result"
    }
   ],
   "source": [
    "type(hex(67))"
   ]
  },
  {
   "cell_type": "code",
   "execution_count": 4,
   "id": "c8c33b76-61f9-4dea-92ff-73fc46a330d6",
   "metadata": {},
   "outputs": [
    {
     "data": {
      "text/plain": [
       "'0o103'"
      ]
     },
     "execution_count": 4,
     "metadata": {},
     "output_type": "execute_result"
    }
   ],
   "source": [
    "oct(67)"
   ]
  },
  {
   "cell_type": "code",
   "execution_count": 8,
   "id": "c4b758a3-a686-4415-b3a7-26d58f506df9",
   "metadata": {},
   "outputs": [
    {
     "data": {
      "text/plain": [
       "\"'a'\""
      ]
     },
     "execution_count": 8,
     "metadata": {},
     "output_type": "execute_result"
    }
   ],
   "source": [
    "ascii('a')"
   ]
  },
  {
   "cell_type": "code",
   "execution_count": 10,
   "id": "ad42e8b0-655c-459e-a1a9-c9629078fc14",
   "metadata": {},
   "outputs": [
    {
     "name": "stdout",
     "output_type": "stream",
     "text": [
      "67\n"
     ]
    }
   ],
   "source": [
    "print(ascii(67))"
   ]
  },
  {
   "cell_type": "code",
   "execution_count": 14,
   "id": "5fa51303-1000-45ab-aadb-e0fa87ab53ce",
   "metadata": {},
   "outputs": [
    {
     "data": {
      "text/plain": [
       "('@', '0x40', '0o100')"
      ]
     },
     "execution_count": 14,
     "metadata": {},
     "output_type": "execute_result"
    }
   ],
   "source": [
    "chr(64), hex(64), oct(64)"
   ]
  },
  {
   "cell_type": "code",
   "execution_count": 18,
   "id": "c5f8fc01-82cd-4ff7-b552-69ed83ec2caa",
   "metadata": {},
   "outputs": [
    {
     "data": {
      "text/plain": [
       "(64, 97, '0x61', '0o141')"
      ]
     },
     "execution_count": 18,
     "metadata": {},
     "output_type": "execute_result"
    }
   ],
   "source": [
    "ord('@'), ord('a'), hex(97), oct(97)"
   ]
  },
  {
   "cell_type": "code",
   "execution_count": 23,
   "id": "773bb163-3b33-4a94-87cf-d9053cc49a1c",
   "metadata": {},
   "outputs": [
    {
     "name": "stdout",
     "output_type": "stream",
     "text": [
      "(0, 1)\n",
      "(1, 2)\n",
      "(2, 3)\n",
      "(3, 5)\n"
     ]
    }
   ],
   "source": [
    "for i in enumerate([1, 2, 3, 5]):\n",
    "    print(i)"
   ]
  },
  {
   "cell_type": "code",
   "execution_count": 24,
   "id": "ba22eea4-6b22-4b54-b8f6-8ef6162c2f30",
   "metadata": {},
   "outputs": [
    {
     "data": {
      "text/plain": [
       "78"
      ]
     },
     "execution_count": 24,
     "metadata": {},
     "output_type": "execute_result"
    }
   ],
   "source": [
    "int(78.67)"
   ]
  },
  {
   "cell_type": "code",
   "execution_count": 25,
   "id": "ec43ec17-457a-4f4f-ae01-f674a7cbafa8",
   "metadata": {},
   "outputs": [
    {
     "data": {
      "text/plain": [
       "'78.78'"
      ]
     },
     "execution_count": 25,
     "metadata": {},
     "output_type": "execute_result"
    }
   ],
   "source": [
    "str(78.78)"
   ]
  },
  {
   "cell_type": "code",
   "execution_count": 26,
   "id": "f11b9b17-7945-4431-9966-a7d2efc45045",
   "metadata": {},
   "outputs": [
    {
     "data": {
      "text/plain": [
       "78.78"
      ]
     },
     "execution_count": 26,
     "metadata": {},
     "output_type": "execute_result"
    }
   ],
   "source": [
    "float('78.78')"
   ]
  },
  {
   "cell_type": "code",
   "execution_count": 30,
   "id": "3eef56f2-375e-4af2-a7bc-df07eb8aee0d",
   "metadata": {},
   "outputs": [
    {
     "data": {
      "text/plain": [
       "(-78-67j)"
      ]
     },
     "execution_count": 30,
     "metadata": {},
     "output_type": "execute_result"
    }
   ],
   "source": [
    "complex(-78, -67)"
   ]
  },
  {
   "cell_type": "code",
   "execution_count": 31,
   "id": "af7d673a-45d7-4c33-92a6-49318d94e3f9",
   "metadata": {},
   "outputs": [
    {
     "data": {
      "text/plain": [
       "16"
      ]
     },
     "execution_count": 31,
     "metadata": {},
     "output_type": "execute_result"
    }
   ],
   "source": [
    "pow(2, 4)"
   ]
  },
  {
   "cell_type": "code",
   "execution_count": 32,
   "id": "49940a0a-6d25-4e9c-9386-33c2fee54d22",
   "metadata": {},
   "outputs": [
    {
     "data": {
      "text/plain": [
       "[1, 1, 1, 1, 2]"
      ]
     },
     "execution_count": 32,
     "metadata": {},
     "output_type": "execute_result"
    }
   ],
   "source": [
    "list((1, 1, 1, 1, 2))"
   ]
  },
  {
   "cell_type": "code",
   "execution_count": 33,
   "id": "bea6cada-6d2b-4818-b43d-ffee8e7ff999",
   "metadata": {},
   "outputs": [
    {
     "data": {
      "text/plain": [
       "(1, 1, 1, 1, 2)"
      ]
     },
     "execution_count": 33,
     "metadata": {},
     "output_type": "execute_result"
    }
   ],
   "source": [
    "tuple([1, 1, 1, 1, 2])"
   ]
  },
  {
   "cell_type": "code",
   "execution_count": 34,
   "id": "30d106f0-4b8c-4fc2-80e7-eab436365f8e",
   "metadata": {},
   "outputs": [
    {
     "data": {
      "text/plain": [
       "'(1, 1, 1, 1, 2)'"
      ]
     },
     "execution_count": 34,
     "metadata": {},
     "output_type": "execute_result"
    }
   ],
   "source": [
    "str((1, 1, 1, 1, 2))"
   ]
  },
  {
   "cell_type": "code",
   "execution_count": 36,
   "id": "2ff8eb7c-9f47-40dc-a397-4ce0949ff6f0",
   "metadata": {},
   "outputs": [
    {
     "data": {
      "text/plain": [
       "{'a': 89, 'b': 77}"
      ]
     },
     "execution_count": 36,
     "metadata": {},
     "output_type": "execute_result"
    }
   ],
   "source": [
    "dict(a=89, b=77)"
   ]
  },
  {
   "cell_type": "code",
   "execution_count": 37,
   "id": "3f67147b-e272-4bda-9425-ee8e174a483c",
   "metadata": {},
   "outputs": [
    {
     "data": {
      "text/plain": [
       "{1, 2}"
      ]
     },
     "execution_count": 37,
     "metadata": {},
     "output_type": "execute_result"
    }
   ],
   "source": [
    "set(list((1, 1, 1, 1, 2)))"
   ]
  },
  {
   "cell_type": "code",
   "execution_count": 38,
   "id": "793d9978-487f-478f-925c-4fd9d31a685c",
   "metadata": {},
   "outputs": [
    {
     "data": {
      "text/plain": [
       "233"
      ]
     },
     "execution_count": 38,
     "metadata": {},
     "output_type": "execute_result"
    }
   ],
   "source": [
    "sum([1, 100, 22, 44, 66])"
   ]
  },
  {
   "cell_type": "code",
   "execution_count": 39,
   "id": "8c5d8b99-d4f5-4412-9707-1b86813f3bfe",
   "metadata": {},
   "outputs": [
    {
     "data": {
      "text/plain": [
       "100"
      ]
     },
     "execution_count": 39,
     "metadata": {},
     "output_type": "execute_result"
    }
   ],
   "source": [
    "max([1, 100, 22, 44, 66])"
   ]
  },
  {
   "cell_type": "code",
   "execution_count": 44,
   "id": "b151baf6-c535-44f3-8708-de186589736a",
   "metadata": {},
   "outputs": [
    {
     "data": {
      "text/plain": [
       "1"
      ]
     },
     "execution_count": 44,
     "metadata": {},
     "output_type": "execute_result"
    }
   ],
   "source": [
    "min([1, 100, 22, 44, 66])"
   ]
  },
  {
   "cell_type": "code",
   "execution_count": 45,
   "id": "8320b498-bd82-4f56-9b6c-21d2749af790",
   "metadata": {},
   "outputs": [
    {
     "data": {
      "text/plain": [
       "'apple is a fruit'"
      ]
     },
     "execution_count": 45,
     "metadata": {},
     "output_type": "execute_result"
    }
   ],
   "source": [
    "\"{} is a fruit\".format(\"apple\")"
   ]
  },
  {
   "cell_type": "code",
   "execution_count": 46,
   "id": "c2fcf86c-6634-49b0-b1d9-6d6a9987a879",
   "metadata": {},
   "outputs": [
    {
     "data": {
      "text/plain": [
       "79"
      ]
     },
     "execution_count": 46,
     "metadata": {},
     "output_type": "execute_result"
    }
   ],
   "source": [
    "round(78.77)"
   ]
  },
  {
   "cell_type": "code",
   "execution_count": 2,
   "id": "87424527-2f1f-4b10-bb2a-71ab0ff39d02",
   "metadata": {},
   "outputs": [
    {
     "data": {
      "text/plain": [
       "(39.5, 39, 1)"
      ]
     },
     "execution_count": 2,
     "metadata": {},
     "output_type": "execute_result"
    }
   ],
   "source": [
    "79 / 2, 79 // 2, 79 % 2"
   ]
  },
  {
   "cell_type": "code",
   "execution_count": 52,
   "id": "cd05cda3-e353-45c9-9c25-155f3729c069",
   "metadata": {},
   "outputs": [
    {
     "data": {
      "text/plain": [
       "(39, 1)"
      ]
     },
     "execution_count": 52,
     "metadata": {},
     "output_type": "execute_result"
    }
   ],
   "source": [
    "divmod(79, 2)"
   ]
  },
  {
   "cell_type": "code",
   "execution_count": 61,
   "id": "51bad167-fc4a-49aa-bc00-89f501b1c9e8",
   "metadata": {},
   "outputs": [
    {
     "data": {
      "text/plain": [
       "[2, 1, 1, 1, 1]"
      ]
     },
     "execution_count": 61,
     "metadata": {},
     "output_type": "execute_result"
    }
   ],
   "source": [
    "L1 = [1, 1, 1, 1, 2]\n",
    "list(reversed(L1))"
   ]
  },
  {
   "cell_type": "code",
   "execution_count": 64,
   "id": "49929b2a-68c3-41b9-9907-2ce36fe38d02",
   "metadata": {},
   "outputs": [
    {
     "data": {
      "text/plain": [
       "[2e+77, 2000, 88, 8.66, 2, 1]"
      ]
     },
     "execution_count": 64,
     "metadata": {},
     "output_type": "execute_result"
    }
   ],
   "source": [
    "sorted([2000, 2e77, 88, 1, 8.66, 2], reverse=True)"
   ]
  },
  {
   "cell_type": "code",
   "execution_count": 65,
   "id": "2a2d9fd7-2f7a-4446-a023-a7899535f07e",
   "metadata": {},
   "outputs": [
    {
     "data": {
      "text/plain": [
       "<zip at 0x178466e4e00>"
      ]
     },
     "execution_count": 65,
     "metadata": {},
     "output_type": "execute_result"
    }
   ],
   "source": [
    "zip([1, 100, 22, 44, 66], [2000, 2e77, 88, 1, 8.66, 2])"
   ]
  },
  {
   "cell_type": "code",
   "execution_count": 66,
   "id": "bd012f7b-e195-4ca7-9fb1-79031685f9d3",
   "metadata": {},
   "outputs": [
    {
     "data": {
      "text/plain": [
       "[(1, 2000), (100, 2e+77), (22, 88), (44, 1), (66, 8.66)]"
      ]
     },
     "execution_count": 66,
     "metadata": {},
     "output_type": "execute_result"
    }
   ],
   "source": [
    "list(zip([1, 100, 22, 44, 66], [2000, 2e77, 88, 1, 8.66, 2]))"
   ]
  },
  {
   "cell_type": "code",
   "execution_count": 67,
   "id": "f1e93a97-f32d-4574-8702-bd89d667e7a6",
   "metadata": {},
   "outputs": [
    {
     "data": {
      "text/plain": [
       "int"
      ]
     },
     "execution_count": 67,
     "metadata": {},
     "output_type": "execute_result"
    }
   ],
   "source": [
    "type(2)"
   ]
  }
 ],
 "metadata": {
  "celltoolbar": "Slideshow",
  "kernelspec": {
   "display_name": "Python 3 (ipykernel)",
   "language": "python",
   "name": "python3"
  },
  "language_info": {
   "codemirror_mode": {
    "name": "ipython",
    "version": 3
   },
   "file_extension": ".py",
   "mimetype": "text/x-python",
   "name": "python",
   "nbconvert_exporter": "python",
   "pygments_lexer": "ipython3",
   "version": "3.9.10"
  }
 },
 "nbformat": 4,
 "nbformat_minor": 5
}

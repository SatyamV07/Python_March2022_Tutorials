{
 "cells": [
  {
   "cell_type": "markdown",
   "id": "adopted-junior",
   "metadata": {
    "slideshow": {
     "slide_type": "slide"
    }
   },
   "source": [
    "# Welcome to Python Basics and Documentation\n",
    "\n",
    "- This notebook involves various slides and Python Codes for better understanding."
   ]
  },
  {
   "cell_type": "markdown",
   "id": "generic-friendship",
   "metadata": {
    "slideshow": {
     "slide_type": "slide"
    }
   },
   "source": [
    "<img src = \"img/What.jpg\" alt = \"What is Python\" height = \"2000\" width = \"2140\" />"
   ]
  },
  {
   "cell_type": "markdown",
   "id": "direct-bobby",
   "metadata": {
    "slideshow": {
     "slide_type": "slide"
    }
   },
   "source": [
    "<img src = \"img/Why.jpg\" alt = \"What is Python\" height = \"2000\" width = \"2140\" />"
   ]
  },
  {
   "cell_type": "markdown",
   "id": "owned-utility",
   "metadata": {
    "slideshow": {
     "slide_type": "slide"
    }
   },
   "source": [
    "<img src = \"img/Where.png\" alt = \"What is Python\" height = \"2000\" width = \"2140\" />\n",
    "\n",
    "**https://github.com/kumar1987an/We_Learn_Python/blob/master/Python_footprints.md**"
   ]
  },
  {
   "cell_type": "markdown",
   "id": "rational-defensive",
   "metadata": {
    "slideshow": {
     "slide_type": "slide"
    }
   },
   "source": [
    "<img src = \"img/HowStuffWorks.png\" alt = \"What is Python\" height = \"2000\" width = \"2140\" />"
   ]
  },
  {
   "cell_type": "markdown",
   "id": "unlimited-enterprise",
   "metadata": {
    "slideshow": {
     "slide_type": "subslide"
    }
   },
   "source": [
    "<img src = \"img/HowPythonWorks.png\" alt = \"What is Python\" height = \"2000\" width = \"2140\" />"
   ]
  },
  {
   "cell_type": "markdown",
   "id": "declared-brand",
   "metadata": {
    "slideshow": {
     "slide_type": "slide"
    }
   },
   "source": [
    "<img src = \"img/Install.png\" alt = \"What is Python\" height = \"2000\" width = \"2140\" />"
   ]
  },
  {
   "cell_type": "markdown",
   "id": "european-yield",
   "metadata": {
    "slideshow": {
     "slide_type": "subslide"
    }
   },
   "source": [
    "Downloaded from [https://www.python.org/downloads/](https://www.python.org/downloads/) along with Installation Instructions\n",
    "\n",
    "**Windows Installation** = Download .msi file for 32 or 64 bit versions and install, After installation, to start use below command in command prompt\n",
    "_```C:\\> python or python3```_\n",
    "\n",
    "**Linux or Unix Installation** = Download zipped source code<br>\n",
    "extract the *.tar.gz file and go inside the extracted directory\n",
    "```\n",
    "./configure\n",
    "make\n",
    "makeinstall```\n",
    "Then run the command in shell _```$ python or python3```_\n",
    "\n",
    "**For Macintosh** = Please follow instructions to install and start python** _[https://docs.python-guide.org/starting/install3/osx/](https://docs.python-guide.org/starting/install3/osx/)_ <br>\n",
    "\n",
    "**<u>Other ways of Python**</u><br>\n",
    "\n",
    "_Python Jupyter notebooks ==> Notebooks for Python which is easy to interatively communicate with code by visualizations_<br>_Ipython ==> Interactive Python with less rich HTML content_<br>"
   ]
  },
  {
   "cell_type": "markdown",
   "id": "dangerous-trade",
   "metadata": {
    "slideshow": {
     "slide_type": "slide"
    }
   },
   "source": [
    "<img src = \"img/Run.png\" alt = \"What is Python\" height = \"2000\" width = \"2140\" />"
   ]
  },
  {
   "cell_type": "markdown",
   "id": "velvet-information",
   "metadata": {
    "slideshow": {
     "slide_type": "subslide"
    }
   },
   "source": [
    "<img src = \"img/Run1.png\" alt = \"What is Python\" height = \"2000\" width = \"2140\" />"
   ]
  }
 ],
 "metadata": {
  "celltoolbar": "Slideshow",
  "hide_input": false,
  "kernelspec": {
   "display_name": "Python 3 (ipykernel)",
   "language": "python",
   "name": "python3"
  },
  "language_info": {
   "codemirror_mode": {
    "name": "ipython",
    "version": 3
   },
   "file_extension": ".py",
   "mimetype": "text/x-python",
   "name": "python",
   "nbconvert_exporter": "python",
   "pygments_lexer": "ipython3",
   "version": "3.9.10"
  },
  "toc": {
   "base_numbering": 1,
   "nav_menu": {},
   "number_sections": true,
   "sideBar": true,
   "skip_h1_title": false,
   "title_cell": "Table of Contents",
   "title_sidebar": "Contents",
   "toc_cell": false,
   "toc_position": {
    "height": "calc(100% - 180px)",
    "left": "10px",
    "top": "150px",
    "width": "164.994px"
   },
   "toc_section_display": true,
   "toc_window_display": false
  },
  "varInspector": {
   "cols": {
    "lenName": 16,
    "lenType": 16,
    "lenVar": 40
   },
   "kernels_config": {
    "python": {
     "delete_cmd_postfix": "",
     "delete_cmd_prefix": "del ",
     "library": "var_list.py",
     "varRefreshCmd": "print(var_dic_list())"
    },
    "r": {
     "delete_cmd_postfix": ") ",
     "delete_cmd_prefix": "rm(",
     "library": "var_list.r",
     "varRefreshCmd": "cat(var_dic_list()) "
    }
   },
   "position": {
    "height": "763.85px",
    "left": "154px",
    "right": "20px",
    "top": "75px",
    "width": "800px"
   },
   "types_to_exclude": [
    "module",
    "function",
    "builtin_function_or_method",
    "instance",
    "_Feature"
   ],
   "window_display": false
  }
 },
 "nbformat": 4,
 "nbformat_minor": 5
}
